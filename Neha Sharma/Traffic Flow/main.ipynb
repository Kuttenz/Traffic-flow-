{
 "cells": [
  {
   "cell_type": "markdown",
   "metadata": {},
   "source": [
    "ABOUT THE PROJECT\n",
    "\n",
    "The main goal of this project is to predict traffic flow using the ARIMA model. The steps include importing necessary libraries, loading and preprocessing the dataset, performing exploratory data analysis (EDA), checking for stationarity, implementing the ARIMA model, evaluating the model, and making predictions based on user inputs."
   ]
  },
  {
   "cell_type": "code",
   "execution_count": null,
   "metadata": {},
   "outputs": [],
   "source": [
    "import pandas as pd\n",
    "import numpy as np\n",
    "import matplotlib.pyplot as plt\n",
    "import seaborn as sns\n",
    "from statsmodels.tsa.stattools import adfuller\n",
    "from statsmodels.tsa.arima.model import ARIMA\n",
    "from sklearn.metrics import mean_squared_error\n",
    "import warnings\n",
    "warnings.filterwarnings('ignore')"
   ]
  },
  {
   "cell_type": "code",
   "execution_count": null,
   "metadata": {},
   "outputs": [],
   "source": [
    "# Load the dataset\n",
    "df = pd.read_csv('traffic.csv')\n",
    "\n",
    "# Display the first few rows of the dataset\n",
    "df.head()"
   ]
  },
  {
   "cell_type": "markdown",
   "metadata": {},
   "source": [
    "Data Preprocessing\n",
    "\n",
    "1. Converting DateTime to a datetime object allows for easier time-series manipulation.\n",
    "2. Setting DateTime as the index helps in time-series analysis.\n",
    "3. Checking and handling missing values ensure data quality."
   ]
  },
  {
   "cell_type": "code",
   "execution_count": null,
   "metadata": {},
   "outputs": [],
   "source": [
    "# Convert the DateTime column to datetime type\n",
    "df['DateTime'] = pd.to_datetime(df['DateTime'])\n",
    "\n",
    "# Set DateTime as the index\n",
    "df.set_index('DateTime', inplace=True)\n",
    "\n",
    "# Check for missing values\n",
    "df.isnull().sum()\n",
    "\n",
    "# If there are missing values, fill them or drop them\n",
    "df.dropna(inplace=True)"
   ]
  },
  {
   "cell_type": "markdown",
   "metadata": {},
   "source": [
    "Exploratory Data Analysis (EDA)\n",
    "\n",
    "To visualize traffic data for each junction and understand the data distribution and trends."
   ]
  },
  {
   "cell_type": "code",
   "execution_count": null,
   "metadata": {},
   "outputs": [],
   "source": [
    "# Plot the traffic data for each junction\n",
    "junctions = df['Junction'].unique()\n",
    "plt.figure(figsize=(15, 10))\n",
    "\n",
    "for i, junction in enumerate(junctions, 1):\n",
    "    plt.subplot(2, 2, i)\n",
    "    junction_data = df[df['Junction'] == junction]['Vehicles']\n",
    "    plt.plot(junction_data)\n",
    "    plt.title(f'Traffic at Junction {junction}')\n",
    "    plt.xlabel('DateTime')\n",
    "    plt.ylabel('Number of Vehicles')\n",
    "\n",
    "plt.tight_layout()\n",
    "plt.show()"
   ]
  },
  {
   "cell_type": "markdown",
   "metadata": {},
   "source": [
    "Stationarity Check\n",
    "\n",
    "Checking for stationarity is crucial for time-series modeling. ARIMA requires the series to be stationary."
   ]
  },
  {
   "cell_type": "code",
   "execution_count": null,
   "metadata": {},
   "outputs": [],
   "source": [
    "def check_stationarity(timeseries):\n",
    "    result = adfuller(timeseries)\n",
    "    print('ADF Statistic:', result[0])\n",
    "    print('p-value:', result[1])\n",
    "    print('Critical Values:', result[4])\n",
    "    if result[1] > 0.05:\n",
    "        print(\"The series is not stationary.\")\n",
    "    else:\n",
    "        print(\"The series is stationary.\")\n",
    "\n",
    "# Check stationarity for each junction\n",
    "for junction in junctions:\n",
    "    print(f'Junction {junction}:')\n",
    "    junction_data = df[df['Junction'] == junction]['Vehicles']\n",
    "    check_stationarity(junction_data)\n",
    "    print()"
   ]
  },
  {
   "cell_type": "markdown",
   "metadata": {},
   "source": [
    "ARIMA Model Implementation\n",
    "\n",
    "1. arima_model function fits the ARIMA model on the training data and forecasts the test data.\n",
    "2. The dataset is split into training and testing sets.\n",
    "3. The ARIMA model is fitted with specified order parameters (p, d, q).\n",
    "4. Forecasted values are plotted against actual values to visualize performance.\n",
    "5. Mean Squared Error (MSE) is calculated to quantify the prediction accuracy.\n"
   ]
  },
  {
   "cell_type": "code",
   "execution_count": null,
   "metadata": {},
   "outputs": [],
   "source": [
    "# Define a function to fit the ARIMA model and make predictions\n",
    "def arima_model(train, test, order):\n",
    "    model = ARIMA(train, order=order)\n",
    "    model_fit = model.fit()\n",
    "    forecast = model_fit.forecast(steps=len(test))\n",
    "    return forecast\n",
    "\n",
    "# Split the data into training and testing sets (e.g., last 10% of data for testing)\n",
    "split_ratio = 0.9\n",
    "\n",
    "for junction in junctions:\n",
    "    print(f'Junction {junction}:')\n",
    "    junction_data = df[df['Junction'] == junction]['Vehicles']\n",
    "    train_size = int(len(junction_data) * split_ratio)\n",
    "    train, test = junction_data[:train_size], junction_data[train_size:]\n",
    "\n",
    "    # Fit the ARIMA model (p, d, q) - these parameters need tuning\n",
    "    order = (5, 1, 0)  # This is an example, you need to tune these parameters\n",
    "    forecast = arima_model(train, test, order)"
   ]
  },
  {
   "cell_type": "markdown",
   "metadata": {},
   "source": [
    " Forecasting\n",
    "\n",
    "1. forecast_future function fits the ARIMA model on the training data and forecasts future traffic.\n",
    "2. The forecasted values are plotted alongside the historical data to visualize future predictions."
   ]
  },
  {
   "cell_type": "code",
   "execution_count": null,
   "metadata": {},
   "outputs": [],
   "source": [
    "def forecast_future(train, order, steps):\n",
    "    model = ARIMA(train, order=order)\n",
    "    model_fit = model.fit()\n",
    "    future_forecast = model_fit.forecast(steps=steps)\n",
    "    return future_forecast\n",
    "\n",
    "forecast_steps = 24\n",
    "\n",
    "for junction in junctions:\n",
    "    print(f'Junction {junction}:')\n",
    "    junction_data = df[df['Junction'] == junction]['Vehicles']\n",
    "    order = (5, 1, 0)\n",
    "\n",
    "    future_index = pd.date_range(start=junction_data.index[-1], periods=forecast_steps, freq='H')\n",
    "future_index = future_index.shift(1, freq='H')  # Shift the index by 1 hour to align with ARIMA forecast\n",
    "\n",
    "plt.figure(figsize=(10, 6))\n",
    "plt.plot(junction_data, label='Historical Data')\n",
    "plt.plot(future_index, future_forecast, label='Future Forecast')\n",
    "plt.title(f'Future Traffic Forecast for Junction {junction}')\n",
    "plt.xlabel('DateTime')\n",
    "plt.ylabel('Number of Vehicles')\n",
    "plt.legend()\n",
    "plt.show()\n",
    "\n"
   ]
  },
  {
   "cell_type": "code",
   "execution_count": null,
   "metadata": {},
   "outputs": [],
   "source": [
    "from datetime import datetime\n",
    "\n",
    "def predict_traffic_for_input(junction, start_date, periods):\n",
    "    \"\"\"\n",
    "    Predict traffic for a given junction and start date for a specified number of periods.\n",
    "\n",
    "    Parameters:\n",
    "    junction (int): Junction number.\n",
    "    start_date (str): Start date in the format 'YYYY-MM-DD'.\n",
    "    periods (int): Number of periods to predict.\n",
    "\n",
    "    Returns:\n",
    "    pd.Series: Forecasted traffic values.\n",
    "    \"\"\"\n",
    "    # Filter data for the given junction\n",
    "    junction_data = df[df['Junction'] == junction]['Vehicles']\n",
    "    \n",
    "    # Fit the ARIMA model\n",
    "    order = (5, 1, 0)  # Tune these parameters as needed\n",
    "    model = ARIMA(junction_data, order=order)\n",
    "    model_fit = model.fit()\n",
    "    \n",
    "    # Generate date range for the forecast\n",
    "    start_date = pd.to_datetime(start_date)\n",
    "    future_index = pd.date_range(start=start_date, periods=periods, freq='H')\n",
    "    \n",
    "    # Make predictions\n",
    "    forecast = model_fit.predict(start=future_index[0], end=future_index[-1])\n",
    "    \n",
    "    return forecast\n",
    "\n",
    "# Example usage:\n",
    "junction = 1\n",
    "start_date = '2023-01-01'\n",
    "periods = 24  # Predict for the next 24 hours\n",
    "\n",
    "forecast = predict_traffic_for_input(junction, start_date, periods)\n",
    "\n",
    "# Plot the forecast\n",
    "plt.figure(figsize=(10, 6))\n",
    "plt.plot(forecast, label='Forecast')\n",
    "plt.title(f'Traffic Forecast for Junction {junction}')\n",
    "plt.xlabel('DateTime')\n",
    "plt.ylabel('Number of Vehicles')\n",
    "plt.legend()\n",
    "plt.show()\n",
    "\n",
    "print(forecast)\n"
   ]
  },
  {
   "cell_type": "code",
   "execution_count": null,
   "metadata": {},
   "outputs": [],
   "source": [
    "# Example usage:\n",
    "junction = 2\n",
    "start_date = '2023-06-05'\n",
    "periods = 24  # Predict for the next 24 hours\n",
    "\n",
    "forecast = predict_traffic_for_input(junction, start_date, periods)\n",
    "\n",
    "# Plot the forecast\n",
    "plt.figure(figsize=(10, 6))\n",
    "plt.plot(forecast, label='Forecast')\n",
    "plt.title(f'Traffic Forecast for Junction {junction}')\n",
    "plt.xlabel('DateTime')\n",
    "plt.ylabel('Number of Vehicles')\n",
    "plt.legend()\n",
    "plt.show()\n",
    "\n",
    "print(forecast)\n"
   ]
  }
 ],
 "metadata": {
  "kernelspec": {
   "display_name": "Python 3",
   "language": "python",
   "name": "python3"
  },
  "language_info": {
   "codemirror_mode": {
    "name": "ipython",
    "version": 3
   },
   "file_extension": ".py",
   "mimetype": "text/x-python",
   "name": "python",
   "nbconvert_exporter": "python",
   "pygments_lexer": "ipython3",
   "version": "3.9.6"
  },
  "orig_nbformat": 4
 },
 "nbformat": 4,
 "nbformat_minor": 2
}
