{
  "nbformat": 4,
  "nbformat_minor": 0,
  "metadata": {
    "colab": {
      "provenance": []
    },
    "kernelspec": {
      "name": "python3",
      "display_name": "Python 3"
    },
    "language_info": {
      "name": "python"
    }
  },
  "cells": [
    {
      "cell_type": "code",
      "source": [
        "import os\n",
        "os.environ['KAGGLE_CONFIG_DIR']='/content/drive/MyDrive/kaggel dataset'"
      ],
      "metadata": {
        "id": "8HHbon2mLGdy"
      },
      "execution_count": 11,
      "outputs": []
    },
    {
      "cell_type": "code",
      "source": [
        "%cd /content/drive/MyDrive/kaggel dataset"
      ],
      "metadata": {
        "colab": {
          "base_uri": "https://localhost:8080/"
        },
        "id": "pU_Er9zcLyiK",
        "outputId": "f5a3a258-ab91-4b59-9772-b688b35c9f89"
      },
      "execution_count": 12,
      "outputs": [
        {
          "output_type": "stream",
          "name": "stdout",
          "text": [
            "/content/drive/MyDrive/kaggel dataset\n"
          ]
        }
      ]
    },
    {
      "cell_type": "code",
      "source": [
        "!kaggle datasets download -d alxmamaev/flowers-recognition"
      ],
      "metadata": {
        "colab": {
          "base_uri": "https://localhost:8080/"
        },
        "id": "nxbEHHxhLGXm",
        "outputId": "0039dd11-6248-44e0-a0db-37ff225059af"
      },
      "execution_count": 13,
      "outputs": [
        {
          "output_type": "stream",
          "name": "stdout",
          "text": [
            "Dataset URL: https://www.kaggle.com/datasets/alxmamaev/flowers-recognition\n",
            "License(s): unknown\n",
            "Downloading flowers-recognition.zip to /content/drive/MyDrive/kaggel dataset\n",
            " 95% 214M/225M [00:02<00:00, 58.1MB/s]\n",
            "100% 225M/225M [00:02<00:00, 94.6MB/s]\n"
          ]
        }
      ]
    },
    {
      "cell_type": "code",
      "source": [
        "!mkdir flowers-recognition\n",
        "!mv flowers-recognition.zip flowers-recognition"
      ],
      "metadata": {
        "id": "JH8sFQkaLGJi"
      },
      "execution_count": 14,
      "outputs": []
    },
    {
      "cell_type": "code",
      "source": [
        "%cd flowers-recognition/"
      ],
      "metadata": {
        "colab": {
          "base_uri": "https://localhost:8080/"
        },
        "id": "m4tTPXGDMxKN",
        "outputId": "a0cb9ecc-2f29-4f9c-faf1-827550fec357"
      },
      "execution_count": 15,
      "outputs": [
        {
          "output_type": "stream",
          "name": "stdout",
          "text": [
            "/content/drive/MyDrive/kaggel dataset/flowers-recognition\n"
          ]
        }
      ]
    },
    {
      "cell_type": "code",
      "source": [
        "!unzip flowers-recognition.zip"
      ],
      "metadata": {
        "id": "kVcCI4gHM182"
      },
      "execution_count": null,
      "outputs": []
    },
    {
      "cell_type": "code",
      "source": [
        "import pandas as pd\n",
        "import tensorflow as tf\n",
        "import numpy as np\n",
        "import os"
      ],
      "metadata": {
        "id": "SP0d09t__f2e"
      },
      "execution_count": null,
      "outputs": []
    },
    {
      "cell_type": "code",
      "execution_count": 17,
      "metadata": {
        "id": "U4UkjPlg88KM"
      },
      "outputs": [],
      "source": [
        "path = \"/content/drive/MyDrive/kaggel dataset/flowers-recognition/flowers\""
      ]
    },
    {
      "cell_type": "code",
      "source": [
        "os.listdir(path)"
      ],
      "metadata": {
        "colab": {
          "base_uri": "https://localhost:8080/"
        },
        "id": "Zp9oQcBHAc_e",
        "outputId": "3a930d95-796f-4d76-8d10-c4794b306c00"
      },
      "execution_count": 18,
      "outputs": [
        {
          "output_type": "execute_result",
          "data": {
            "text/plain": [
              "['daisy', 'dandelion', 'rose', 'sunflower', 'tulip']"
            ]
          },
          "metadata": {},
          "execution_count": 18
        }
      ]
    },
    {
      "cell_type": "code",
      "source": [
        "classes = ['daisy','dandelion',  'rose', 'sunflower', 'tulip']"
      ],
      "metadata": {
        "id": "V5FEqAXNOCQr"
      },
      "execution_count": 19,
      "outputs": []
    },
    {
      "cell_type": "code",
      "source": [
        "from matplotlib.image import imread"
      ],
      "metadata": {
        "id": "ErY2DRI_OS-m"
      },
      "execution_count": 21,
      "outputs": []
    },
    {
      "cell_type": "code",
      "source": [
        "for flower_class in classes:\n",
        "    class_path = os.path.join(path, flower_class)\n",
        "    max_values = []\n",
        "    min_values = []\n",
        "    for image in os.listdir(class_path):\n",
        "        img = imread(os.path.join(class_path, image))\n",
        "        max_val = img.max()\n",
        "        min_val = img.min()\n",
        "        max_values.append(max_val)\n",
        "        min_values.append(min_val)\n",
        "    max_class_val = max(max_values)\n",
        "    min_class_val = min(min_values)\n",
        "    print(\"***************************\")\n",
        "    print(f\"Class: {flower_class}\")\n",
        "    print(f\"Max value: {max_class_val}\")\n",
        "    print(f\"Min value: {min_class_val}\")\n",
        "\n",
        "print(\"***************************\")"
      ],
      "metadata": {
        "colab": {
          "base_uri": "https://localhost:8080/"
        },
        "id": "dmQiRfnWOJ1v",
        "outputId": "03d553d2-9c57-4a21-db6d-64b40c34a7bb"
      },
      "execution_count": 22,
      "outputs": [
        {
          "output_type": "stream",
          "name": "stdout",
          "text": [
            "***************************\n",
            "Class: daisy\n",
            "Max value: 255\n",
            "Min value: 0\n",
            "***************************\n",
            "Class: dandelion\n",
            "Max value: 255\n",
            "Min value: 0\n",
            "***************************\n",
            "Class: rose\n",
            "Max value: 255\n",
            "Min value: 0\n",
            "***************************\n",
            "Class: sunflower\n",
            "Max value: 255\n",
            "Min value: 0\n",
            "***************************\n",
            "Class: tulip\n",
            "Max value: 255\n",
            "Min value: 0\n",
            "***************************\n"
          ]
        }
      ]
    },
    {
      "cell_type": "code",
      "source": [
        "input_shape = (256,256)\n",
        "batch_size = 64"
      ],
      "metadata": {
        "id": "jh1dlltB_arF"
      },
      "execution_count": 23,
      "outputs": []
    },
    {
      "cell_type": "code",
      "source": [
        "train_ds = tf.keras.utils.image_dataset_from_directory(\n",
        "  path,\n",
        "  validation_split=0.2,\n",
        "  subset=\"training\",\n",
        "  seed=123,\n",
        "  image_size=input_shape,\n",
        "  batch_size=batch_size)"
      ],
      "metadata": {
        "id": "P_oHBaoh_N84",
        "colab": {
          "base_uri": "https://localhost:8080/"
        },
        "outputId": "f5ed58b9-1b8c-4fe3-cca7-77ac7daff0ba"
      },
      "execution_count": 24,
      "outputs": [
        {
          "output_type": "stream",
          "name": "stdout",
          "text": [
            "Found 4317 files belonging to 5 classes.\n",
            "Using 3454 files for training.\n"
          ]
        }
      ]
    },
    {
      "cell_type": "code",
      "source": [
        "val_ds = tf.keras.utils.image_dataset_from_directory(\n",
        "  path,\n",
        "  validation_split=0.2,\n",
        "  subset=\"validation\",\n",
        "  seed=123,\n",
        "  image_size=input_shape,\n",
        "  batch_size=batch_size)"
      ],
      "metadata": {
        "id": "T7vRRQbj_x2X",
        "colab": {
          "base_uri": "https://localhost:8080/"
        },
        "outputId": "2c15b681-6a62-4b23-9444-eb9120e21f7f"
      },
      "execution_count": 25,
      "outputs": [
        {
          "output_type": "stream",
          "name": "stdout",
          "text": [
            "Found 4317 files belonging to 5 classes.\n",
            "Using 863 files for validation.\n"
          ]
        }
      ]
    },
    {
      "cell_type": "code",
      "source": [
        "AUTOTUNE = tf.data.AUTOTUNE\n",
        "\n",
        "train_ds = train_ds.cache().shuffle(1000).prefetch(buffer_size=AUTOTUNE)\n",
        "val_ds = val_ds.cache().prefetch(buffer_size=AUTOTUNE)"
      ],
      "metadata": {
        "id": "niLkqQOMOXpO"
      },
      "execution_count": 27,
      "outputs": []
    },
    {
      "cell_type": "code",
      "source": [
        "train_ds = train_ds.map(lambda x,y: (x/255, y))\n",
        "val_ds = val_ds.map(lambda x,y: (x/255, y))\n",
        "image_batch, labels_batch = next(iter(train_ds))\n",
        "first_image = image_batch[0]"
      ],
      "metadata": {
        "id": "ibs-eiGvOlfV"
      },
      "execution_count": 29,
      "outputs": []
    },
    {
      "cell_type": "code",
      "source": [
        "from tensorflow.keras.models import Sequential\n",
        "from tensorflow.keras.layers import Conv2D, MaxPooling2D, Dense, Flatten, Dropout,BatchNormalization"
      ],
      "metadata": {
        "id": "jMqi4gaYPKMs"
      },
      "execution_count": 30,
      "outputs": []
    },
    {
      "cell_type": "code",
      "source": [
        "input_shape =  (256,256,3)\n",
        "num_classes = len(classes)"
      ],
      "metadata": {
        "id": "6DofSZWcPPtC"
      },
      "execution_count": 32,
      "outputs": []
    },
    {
      "cell_type": "code",
      "source": [
        "model = Sequential()\n",
        "\n",
        "model.add(Conv2D(16, (3,3), padding='same', activation='relu', input_shape=input_shape))\n",
        "model.add(MaxPooling2D())\n",
        "model.add(Conv2D(32, (3,3), padding='same', activation='relu'))\n",
        "model.add(MaxPooling2D())\n",
        "model.add(Conv2D(64, (3,3), padding='same', activation='relu'))\n",
        "model.add(MaxPooling2D())\n",
        "model.add(Conv2D(64, (3,3), padding='same', activation='relu'))\n",
        "model.add(MaxPooling2D())\n",
        "\n",
        "model.add(Flatten())\n",
        "#ANN\n",
        "\n",
        "model.add(Dense(64, activation='relu'))\n",
        "model.add(Dense(num_classes, activation='softmax'))"
      ],
      "metadata": {
        "id": "MmUudXSiPo2x"
      },
      "execution_count": 33,
      "outputs": []
    },
    {
      "cell_type": "code",
      "source": [
        "model.compile('adam', loss=tf.keras.losses.SparseCategoricalCrossentropy(), metrics=['accuracy'])\n",
        "model.summary()"
      ],
      "metadata": {
        "colab": {
          "base_uri": "https://localhost:8080/"
        },
        "id": "CqniCvzMPwF8",
        "outputId": "1598f4ca-a424-43a4-84cd-b56bd8520626"
      },
      "execution_count": 34,
      "outputs": [
        {
          "output_type": "stream",
          "name": "stdout",
          "text": [
            "Model: \"sequential\"\n",
            "_________________________________________________________________\n",
            " Layer (type)                Output Shape              Param #   \n",
            "=================================================================\n",
            " conv2d (Conv2D)             (None, 256, 256, 16)      448       \n",
            "                                                                 \n",
            " max_pooling2d (MaxPooling2  (None, 128, 128, 16)      0         \n",
            " D)                                                              \n",
            "                                                                 \n",
            " conv2d_1 (Conv2D)           (None, 128, 128, 32)      4640      \n",
            "                                                                 \n",
            " max_pooling2d_1 (MaxPoolin  (None, 64, 64, 32)        0         \n",
            " g2D)                                                            \n",
            "                                                                 \n",
            " conv2d_2 (Conv2D)           (None, 64, 64, 64)        18496     \n",
            "                                                                 \n",
            " max_pooling2d_2 (MaxPoolin  (None, 32, 32, 64)        0         \n",
            " g2D)                                                            \n",
            "                                                                 \n",
            " conv2d_3 (Conv2D)           (None, 32, 32, 64)        36928     \n",
            "                                                                 \n",
            " max_pooling2d_3 (MaxPoolin  (None, 16, 16, 64)        0         \n",
            " g2D)                                                            \n",
            "                                                                 \n",
            " flatten (Flatten)           (None, 16384)             0         \n",
            "                                                                 \n",
            " dense (Dense)               (None, 64)                1048640   \n",
            "                                                                 \n",
            " dense_1 (Dense)             (None, 5)                 325       \n",
            "                                                                 \n",
            "=================================================================\n",
            "Total params: 1109477 (4.23 MB)\n",
            "Trainable params: 1109477 (4.23 MB)\n",
            "Non-trainable params: 0 (0.00 Byte)\n",
            "_________________________________________________________________\n"
          ]
        }
      ]
    },
    {
      "cell_type": "code",
      "source": [
        "history = model.fit(\n",
        "  train_ds,\n",
        "  validation_data=val_ds,\n",
        "  epochs=10\n",
        ")"
      ],
      "metadata": {
        "colab": {
          "base_uri": "https://localhost:8080/"
        },
        "id": "OXwVbAGzPzNY",
        "outputId": "36b69487-a873-447f-dba8-e1d3d8243d08"
      },
      "execution_count": 35,
      "outputs": [
        {
          "output_type": "stream",
          "name": "stdout",
          "text": [
            "Epoch 1/10\n",
            "54/54 [==============================] - 268s 5s/step - loss: 1.5163 - accuracy: 0.3109 - val_loss: 1.3902 - val_accuracy: 0.4090\n",
            "Epoch 2/10\n",
            "54/54 [==============================] - 247s 5s/step - loss: 1.1690 - accuracy: 0.5180 - val_loss: 1.0190 - val_accuracy: 0.6072\n",
            "Epoch 3/10\n",
            "54/54 [==============================] - 247s 5s/step - loss: 0.9800 - accuracy: 0.6202 - val_loss: 0.9613 - val_accuracy: 0.6083\n",
            "Epoch 4/10\n",
            "54/54 [==============================] - 253s 5s/step - loss: 0.8636 - accuracy: 0.6676 - val_loss: 0.9279 - val_accuracy: 0.6385\n",
            "Epoch 5/10\n",
            "54/54 [==============================] - 272s 5s/step - loss: 0.7936 - accuracy: 0.7021 - val_loss: 1.0037 - val_accuracy: 0.6130\n",
            "Epoch 6/10\n",
            "54/54 [==============================] - 295s 5s/step - loss: 0.6243 - accuracy: 0.7719 - val_loss: 0.9857 - val_accuracy: 0.6512\n",
            "Epoch 7/10\n",
            "54/54 [==============================] - 261s 5s/step - loss: 0.4896 - accuracy: 0.8280 - val_loss: 1.0610 - val_accuracy: 0.6582\n",
            "Epoch 8/10\n",
            "54/54 [==============================] - 268s 5s/step - loss: 0.3499 - accuracy: 0.8790 - val_loss: 1.2918 - val_accuracy: 0.6304\n",
            "Epoch 9/10\n",
            "54/54 [==============================] - 261s 5s/step - loss: 0.2643 - accuracy: 0.9071 - val_loss: 1.3958 - val_accuracy: 0.6199\n",
            "Epoch 10/10\n",
            "54/54 [==============================] - 275s 5s/step - loss: 0.2138 - accuracy: 0.9331 - val_loss: 1.4986 - val_accuracy: 0.6443\n"
          ]
        }
      ]
    },
    {
      "cell_type": "code",
      "source": [
        "acc = history.history['accuracy']\n",
        "val_acc = history.history['val_accuracy']\n",
        "\n",
        "loss = history.history['loss']\n",
        "val_loss = history.history['val_loss']\n",
        "\n",
        "epochs_range = range(10)\n",
        "\n",
        "plt.figure(figsize=(12, 8))\n",
        "plt.subplot(1, 2, 1)\n",
        "plt.plot(epochs_range, acc, label='Training Accuracy')\n",
        "plt.plot(epochs_range, val_acc, label='Validation Accuracy')\n",
        "plt.legend(loc='upper left')\n",
        "plt.title('Accuracy')\n",
        "\n",
        "plt.subplot(1, 2, 2)\n",
        "plt.plot(epochs_range, loss, label='Training Loss')\n",
        "plt.plot(epochs_range, val_loss, label='Validation Loss')\n",
        "plt.legend(loc='upper left')\n",
        "plt.title('Loss')\n",
        "plt.show()"
      ],
      "metadata": {
        "colab": {
          "base_uri": "https://localhost:8080/",
          "height": 699
        },
        "id": "weFCxrlHYAmb",
        "outputId": "ccc1d59f-fffd-42e5-bff8-d38652343b33"
      },
      "execution_count": 36,
      "outputs": [
        {
          "output_type": "display_data",
          "data": {
            "text/plain": [
              "<Figure size 1200x800 with 2 Axes>"
            ],
            "image/png": "[encoded data removed]"
          },
          "metadata": {}
        }
      ]
    }
  ]
}