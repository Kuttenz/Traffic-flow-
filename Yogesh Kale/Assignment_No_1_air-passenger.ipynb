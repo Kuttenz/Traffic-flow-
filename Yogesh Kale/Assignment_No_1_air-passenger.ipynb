{
 "cells": [
  {
   "cell_type": "code",
   "execution_count": 1,
   "id": "04a2417a",
   "metadata": {
    "_cell_guid": "b1076dfc-b9ad-4769-8c92-a6c4dae69d19",
    "_uuid": "8f2839f25d086af736a60e9eeb907d3b93b6e0e5",
    "execution": {
     "iopub.execute_input": "2024-05-03T11:35:02.060975Z",
     "iopub.status.busy": "2024-05-03T11:35:02.060165Z",
     "iopub.status.idle": "2024-05-03T11:35:04.468257Z",
     "shell.execute_reply": "2024-05-03T11:35:04.467132Z"
    },
    "papermill": {
     "duration": 2.421521,
     "end_time": "2024-05-03T11:35:04.470520",
     "exception": false,
     "start_time": "2024-05-03T11:35:02.048999",
     "status": "completed"
    },
    "tags": []
   },
   "outputs": [
    {
     "ename": "ModuleNotFoundError",
     "evalue": "No module named 'statsmodels'",
     "output_type": "error",
     "traceback": [
      "\u001b[1;31m---------------------------------------------------------------------------\u001b[0m",
      "\u001b[1;31mModuleNotFoundError\u001b[0m                       Traceback (most recent call last)",
      "Cell \u001b[1;32mIn[1], line 4\u001b[0m\n\u001b[0;32m      2\u001b[0m \u001b[38;5;28;01mimport\u001b[39;00m \u001b[38;5;21;01mpandas\u001b[39;00m \u001b[38;5;28;01mas\u001b[39;00m \u001b[38;5;21;01mpd\u001b[39;00m\n\u001b[0;32m      3\u001b[0m \u001b[38;5;28;01mimport\u001b[39;00m \u001b[38;5;21;01mmatplotlib\u001b[39;00m\u001b[38;5;21;01m.\u001b[39;00m\u001b[38;5;21;01mpyplot\u001b[39;00m \u001b[38;5;28;01mas\u001b[39;00m \u001b[38;5;21;01mplt\u001b[39;00m \n\u001b[1;32m----> 4\u001b[0m \u001b[38;5;28;01mfrom\u001b[39;00m \u001b[38;5;21;01mstatsmodels\u001b[39;00m\u001b[38;5;21;01m.\u001b[39;00m\u001b[38;5;21;01mtsa\u001b[39;00m\u001b[38;5;21;01m.\u001b[39;00m\u001b[38;5;21;01mseasonal\u001b[39;00m \u001b[38;5;28;01mimport\u001b[39;00m seasonal_decompose\n\u001b[0;32m      5\u001b[0m \u001b[38;5;28;01mfrom\u001b[39;00m \u001b[38;5;21;01msklearn\u001b[39;00m\u001b[38;5;21;01m.\u001b[39;00m\u001b[38;5;21;01mmodel_selection\u001b[39;00m \u001b[38;5;28;01mimport\u001b[39;00m train_test_split\n\u001b[0;32m      7\u001b[0m \u001b[38;5;28;01mimport\u001b[39;00m \u001b[38;5;21;01mos\u001b[39;00m\n",
      "\u001b[1;31mModuleNotFoundError\u001b[0m: No module named 'statsmodels'"
     ]
    }
   ],
   "source": [
    "\n",
    "import numpy as np\n",
    "import pandas as pd\n",
    "import matplotlib.pyplot as plt \n",
    "from statsmodels.tsa.seasonal import seasonal_decompose\n",
    "from sklearn.model_selection import train_test_split\n",
    "\n",
    "import os\n",
    "for dirname, _, filenames in os.walk('/kaggle/input'):\n",
    "    for filename in filenames:\n",
    "        print(os.path.join(dirname, filename))\n",
    "\n"
   ]
  },
  {
   "cell_type": "code",
   "execution_count": null,
   "id": "e11a9de1",
   "metadata": {
    "execution": {
     "iopub.execute_input": "2024-05-03T11:35:04.490550Z",
     "iopub.status.busy": "2024-05-03T11:35:04.490097Z",
     "iopub.status.idle": "2024-05-03T11:35:04.505691Z",
     "shell.execute_reply": "2024-05-03T11:35:04.504953Z"
    },
    "papermill": {
     "duration": 0.02777,
     "end_time": "2024-05-03T11:35:04.507729",
     "exception": false,
     "start_time": "2024-05-03T11:35:04.479959",
     "status": "completed"
    },
    "tags": []
   },
   "outputs": [],
   "source": [
    "data = pd.read_csv('/kaggle/input/air-passengers/AirPassengers.csv')\n",
    "data2 = data.copy()"
   ]
  },
  {
   "cell_type": "code",
   "execution_count": null,
   "id": "e932c264",
   "metadata": {
    "execution": {
     "iopub.execute_input": "2024-05-03T11:35:04.527117Z",
     "iopub.status.busy": "2024-05-03T11:35:04.526860Z",
     "iopub.status.idle": "2024-05-03T11:35:04.551614Z",
     "shell.execute_reply": "2024-05-03T11:35:04.550766Z"
    },
    "papermill": {
     "duration": 0.03662,
     "end_time": "2024-05-03T11:35:04.553729",
     "exception": false,
     "start_time": "2024-05-03T11:35:04.517109",
     "status": "completed"
    },
    "tags": []
   },
   "outputs": [
    {
     "data": {
      "text/html": [
       "<div>\n",
       "<style scoped>\n",
       "    .dataframe tbody tr th:only-of-type {\n",
       "        vertical-align: middle;\n",
       "    }\n",
       "\n",
       "    .dataframe tbody tr th {\n",
       "        vertical-align: top;\n",
       "    }\n",
       "\n",
       "    .dataframe thead th {\n",
       "        text-align: right;\n",
       "    }\n",
       "</style>\n",
       "<table border=\"1\" class=\"dataframe\">\n",
       "  <thead>\n",
       "    <tr style=\"text-align: right;\">\n",
       "      <th></th>\n",
       "      <th>Month</th>\n",
       "      <th>#Passengers</th>\n",
       "    </tr>\n",
       "    <tr>\n",
       "      <th>Month</th>\n",
       "      <th></th>\n",
       "      <th></th>\n",
       "    </tr>\n",
       "  </thead>\n",
       "  <tbody>\n",
       "    <tr>\n",
       "      <th>1949-01-01</th>\n",
       "      <td>1949-01-01</td>\n",
       "      <td>112</td>\n",
       "    </tr>\n",
       "    <tr>\n",
       "      <th>1949-02-01</th>\n",
       "      <td>1949-02-01</td>\n",
       "      <td>118</td>\n",
       "    </tr>\n",
       "    <tr>\n",
       "      <th>1949-03-01</th>\n",
       "      <td>1949-03-01</td>\n",
       "      <td>132</td>\n",
       "    </tr>\n",
       "    <tr>\n",
       "      <th>1949-04-01</th>\n",
       "      <td>1949-04-01</td>\n",
       "      <td>129</td>\n",
       "    </tr>\n",
       "    <tr>\n",
       "      <th>1949-05-01</th>\n",
       "      <td>1949-05-01</td>\n",
       "      <td>121</td>\n",
       "    </tr>\n",
       "  </tbody>\n",
       "</table>\n",
       "</div>"
      ],
      "text/plain": [
       "                Month  #Passengers\n",
       "Month                             \n",
       "1949-01-01 1949-01-01          112\n",
       "1949-02-01 1949-02-01          118\n",
       "1949-03-01 1949-03-01          132\n",
       "1949-04-01 1949-04-01          129\n",
       "1949-05-01 1949-05-01          121"
      ]
     },
     "execution_count": 3,
     "metadata": {},
     "output_type": "execute_result"
    }
   ],
   "source": [
    "data[\"Month\"] = pd.to_datetime(data[\"Month\"],format='%Y-%m')\n",
    "data.index = data[\"Month\"]\n",
    "data.head()"
   ]
  },
  {
   "cell_type": "code",
   "execution_count": null,
   "id": "caccfa08",
   "metadata": {
    "execution": {
     "iopub.execute_input": "2024-05-03T11:35:04.575050Z",
     "iopub.status.busy": "2024-05-03T11:35:04.574815Z",
     "iopub.status.idle": "2024-05-03T11:35:04.597974Z",
     "shell.execute_reply": "2024-05-03T11:35:04.596809Z"
    },
    "papermill": {
     "duration": 0.035921,
     "end_time": "2024-05-03T11:35:04.599906",
     "exception": false,
     "start_time": "2024-05-03T11:35:04.563985",
     "status": "completed"
    },
    "tags": []
   },
   "outputs": [
    {
     "name": "stdout",
     "output_type": "stream",
     "text": [
      "<class 'pandas.core.frame.DataFrame'>\n",
      "DatetimeIndex: 144 entries, 1949-01-01 to 1960-12-01\n",
      "Data columns (total 2 columns):\n",
      " #   Column       Non-Null Count  Dtype         \n",
      "---  ------       --------------  -----         \n",
      " 0   Month        144 non-null    datetime64[ns]\n",
      " 1   #Passengers  144 non-null    int64         \n",
      "dtypes: datetime64[ns](1), int64(1)\n",
      "memory usage: 3.4 KB\n"
     ]
    }
   ],
   "source": [
    "data.info()"
   ]
  },
  {
   "cell_type": "code",
   "execution_count": null,
   "id": "763785ca",
   "metadata": {
    "execution": {
     "iopub.execute_input": "2024-05-03T11:35:04.619059Z",
     "iopub.status.busy": "2024-05-03T11:35:04.618823Z",
     "iopub.status.idle": "2024-05-03T11:35:04.624544Z",
     "shell.execute_reply": "2024-05-03T11:35:04.623688Z"
    },
    "papermill": {
     "duration": 0.017553,
     "end_time": "2024-05-03T11:35:04.626445",
     "exception": false,
     "start_time": "2024-05-03T11:35:04.608892",
     "status": "completed"
    },
    "tags": []
   },
   "outputs": [],
   "source": [
    "data = data.drop(\"Month\",axis=1)"
   ]
  },
  {
   "cell_type": "code",
   "execution_count": null,
   "id": "e5f88cca",
   "metadata": {
    "execution": {
     "iopub.execute_input": "2024-05-03T11:35:04.646174Z",
     "iopub.status.busy": "2024-05-03T11:35:04.645610Z",
     "iopub.status.idle": "2024-05-03T11:35:05.085812Z",
     "shell.execute_reply": "2024-05-03T11:35:05.084797Z"
    },
    "papermill": {
     "duration": 0.453084,
     "end_time": "2024-05-03T11:35:05.088748",
     "exception": false,
     "start_time": "2024-05-03T11:35:04.635664",
     "status": "completed"
    },
    "tags": []
   },
   "outputs": [
    {
     "data": {
      "text/plain": [
       "<Axes: xlabel='Month'>"
      ]
     },
     "execution_count": 6,
     "metadata": {},
     "output_type": "execute_result"
    },
    {
     "data": {
      "image/png": "[encoded data removed]",
      "text/plain": [
       "<Figure size 640x480 with 1 Axes>"
      ]
     },
     "metadata": {},
     "output_type": "display_data"
    }
   ],
   "source": [
    "data.plot()"
   ]
  },
  {
   "cell_type": "code",
   "execution_count": null,
   "id": "0ff0aed4",
   "metadata": {
    "execution": {
     "iopub.execute_input": "2024-05-03T11:35:05.112830Z",
     "iopub.status.busy": "2024-05-03T11:35:05.112526Z",
     "iopub.status.idle": "2024-05-03T11:35:05.119084Z",
     "shell.execute_reply": "2024-05-03T11:35:05.118227Z"
    },
    "papermill": {
     "duration": 0.020408,
     "end_time": "2024-05-03T11:35:05.121262",
     "exception": false,
     "start_time": "2024-05-03T11:35:05.100854",
     "status": "completed"
    },
    "tags": []
   },
   "outputs": [],
   "source": [
    "data2[\"Month\"] = pd.to_datetime(data2[\"Month\"],format='%Y-%m')\n",
    "data2.index = data2[\"Month\"]\n",
    "data2 = data2.drop('Month',axis=1)"
   ]
  },
  {
   "cell_type": "code",
   "execution_count": null,
   "id": "a8a481f1",
   "metadata": {
    "execution": {
     "iopub.execute_input": "2024-05-03T11:35:05.143395Z",
     "iopub.status.busy": "2024-05-03T11:35:05.143098Z",
     "iopub.status.idle": "2024-05-03T11:35:05.150604Z",
     "shell.execute_reply": "2024-05-03T11:35:05.149746Z"
    },
    "papermill": {
     "duration": 0.021,
     "end_time": "2024-05-03T11:35:05.152680",
     "exception": false,
     "start_time": "2024-05-03T11:35:05.131680",
     "status": "completed"
    },
    "tags": []
   },
   "outputs": [],
   "source": [
    "decomposition = seasonal_decompose(data2,model=\"multplicative\")"
   ]
  },
  {
   "cell_type": "code",
   "execution_count": null,
   "id": "8c21447b",
   "metadata": {
    "execution": {
     "iopub.execute_input": "2024-05-03T11:35:05.174944Z",
     "iopub.status.busy": "2024-05-03T11:35:05.174660Z",
     "iopub.status.idle": "2024-05-03T11:35:06.785427Z",
     "shell.execute_reply": "2024-05-03T11:35:06.784488Z"
    },
    "papermill": {
     "duration": 1.624673,
     "end_time": "2024-05-03T11:35:06.787977",
     "exception": false,
     "start_time": "2024-05-03T11:35:05.163304",
     "status": "completed"
    },
    "tags": []
   },
   "outputs": [
    {
     "data": {
      "image/png": "[encoded data removed]",
      "text/plain": [
       "<Figure size 640x480 with 4 Axes>"
      ]
     },
     "metadata": {},
     "output_type": "display_data"
    }
   ],
   "source": [
    "decomposition.plot()\n",
    "plt.show()"
   ]
  },
  {
   "cell_type": "code",
   "execution_count": null,
   "id": "c9e82be8",
   "metadata": {
    "execution": {
     "iopub.execute_input": "2024-05-03T11:35:06.811484Z",
     "iopub.status.busy": "2024-05-03T11:35:06.811152Z",
     "iopub.status.idle": "2024-05-03T11:35:07.133846Z",
     "shell.execute_reply": "2024-05-03T11:35:07.132888Z"
    },
    "papermill": {
     "duration": 0.336681,
     "end_time": "2024-05-03T11:35:07.135918",
     "exception": false,
     "start_time": "2024-05-03T11:35:06.799237",
     "status": "completed"
    },
    "tags": []
   },
   "outputs": [
    {
     "data": {
      "text/plain": [
       "<Axes: xlabel='Month'>"
      ]
     },
     "execution_count": 10,
     "metadata": {},
     "output_type": "execute_result"
    },
    {
     "data": {
      "image/png": "[encoded data removed]",
      "text/plain": [
       "<Figure size 640x480 with 1 Axes>"
      ]
     },
     "metadata": {},
     "output_type": "display_data"
    }
   ],
   "source": [
    "data2.plot()"
   ]
  },
  {
   "cell_type": "code",
   "execution_count": null,
   "id": "c77c336b",
   "metadata": {
    "execution": {
     "iopub.execute_input": "2024-05-03T11:35:07.162779Z",
     "iopub.status.busy": "2024-05-03T11:35:07.162158Z",
     "iopub.status.idle": "2024-05-03T11:35:07.450806Z",
     "shell.execute_reply": "2024-05-03T11:35:07.449965Z"
    },
    "papermill": {
     "duration": 0.304412,
     "end_time": "2024-05-03T11:35:07.452945",
     "exception": false,
     "start_time": "2024-05-03T11:35:07.148533",
     "status": "completed"
    },
    "tags": []
   },
   "outputs": [
    {
     "data": {
      "text/plain": [
       "<Axes: xlabel='Month'>"
      ]
     },
     "execution_count": 11,
     "metadata": {},
     "output_type": "execute_result"
    },
    {
     "data": {
      "image/png": "[encoded data removed]",
      "text/plain": [
       "<Figure size 640x480 with 1 Axes>"
      ]
     },
     "metadata": {},
     "output_type": "display_data"
    }
   ],
   "source": [
    "data2.plot()"
   ]
  },
  {
   "cell_type": "code",
   "execution_count": null,
   "id": "5025c74f",
   "metadata": {
    "execution": {
     "iopub.execute_input": "2024-05-03T11:35:07.479584Z",
     "iopub.status.busy": "2024-05-03T11:35:07.479308Z",
     "iopub.status.idle": "2024-05-03T11:35:07.488680Z",
     "shell.execute_reply": "2024-05-03T11:35:07.487720Z"
    },
    "papermill": {
     "duration": 0.025034,
     "end_time": "2024-05-03T11:35:07.490666",
     "exception": false,
     "start_time": "2024-05-03T11:35:07.465632",
     "status": "completed"
    },
    "tags": []
   },
   "outputs": [
    {
     "name": "stdout",
     "output_type": "stream",
     "text": [
      "<class 'pandas.core.frame.DataFrame'>\n",
      "DatetimeIndex: 144 entries, 1949-01-01 to 1960-12-01\n",
      "Data columns (total 1 columns):\n",
      " #   Column       Non-Null Count  Dtype\n",
      "---  ------       --------------  -----\n",
      " 0   #Passengers  144 non-null    int64\n",
      "dtypes: int64(1)\n",
      "memory usage: 2.2 KB\n"
     ]
    }
   ],
   "source": [
    "data.info()"
   ]
  },
  {
   "cell_type": "code",
   "execution_count": null,
   "id": "6d51214b",
   "metadata": {
    "execution": {
     "iopub.execute_input": "2024-05-03T11:35:07.516613Z",
     "iopub.status.busy": "2024-05-03T11:35:07.515945Z",
     "iopub.status.idle": "2024-05-03T11:35:07.526452Z",
     "shell.execute_reply": "2024-05-03T11:35:07.525612Z"
    },
    "papermill": {
     "duration": 0.025523,
     "end_time": "2024-05-03T11:35:07.528449",
     "exception": false,
     "start_time": "2024-05-03T11:35:07.502926",
     "status": "completed"
    },
    "tags": []
   },
   "outputs": [
    {
     "data": {
      "text/html": [
       "<div>\n",
       "<style scoped>\n",
       "    .dataframe tbody tr th:only-of-type {\n",
       "        vertical-align: middle;\n",
       "    }\n",
       "\n",
       "    .dataframe tbody tr th {\n",
       "        vertical-align: top;\n",
       "    }\n",
       "\n",
       "    .dataframe thead th {\n",
       "        text-align: right;\n",
       "    }\n",
       "</style>\n",
       "<table border=\"1\" class=\"dataframe\">\n",
       "  <thead>\n",
       "    <tr style=\"text-align: right;\">\n",
       "      <th></th>\n",
       "      <th>#Passengers</th>\n",
       "    </tr>\n",
       "    <tr>\n",
       "      <th>Month</th>\n",
       "      <th></th>\n",
       "    </tr>\n",
       "  </thead>\n",
       "  <tbody>\n",
       "    <tr>\n",
       "      <th>1949-01-01</th>\n",
       "      <td>112</td>\n",
       "    </tr>\n",
       "    <tr>\n",
       "      <th>1949-02-01</th>\n",
       "      <td>118</td>\n",
       "    </tr>\n",
       "    <tr>\n",
       "      <th>1949-03-01</th>\n",
       "      <td>132</td>\n",
       "    </tr>\n",
       "    <tr>\n",
       "      <th>1949-04-01</th>\n",
       "      <td>129</td>\n",
       "    </tr>\n",
       "    <tr>\n",
       "      <th>1949-05-01</th>\n",
       "      <td>121</td>\n",
       "    </tr>\n",
       "    <tr>\n",
       "      <th>1949-06-01</th>\n",
       "      <td>135</td>\n",
       "    </tr>\n",
       "    <tr>\n",
       "      <th>1949-07-01</th>\n",
       "      <td>148</td>\n",
       "    </tr>\n",
       "    <tr>\n",
       "      <th>1949-08-01</th>\n",
       "      <td>148</td>\n",
       "    </tr>\n",
       "    <tr>\n",
       "      <th>1949-09-01</th>\n",
       "      <td>136</td>\n",
       "    </tr>\n",
       "    <tr>\n",
       "      <th>1949-10-01</th>\n",
       "      <td>119</td>\n",
       "    </tr>\n",
       "    <tr>\n",
       "      <th>1949-11-01</th>\n",
       "      <td>104</td>\n",
       "    </tr>\n",
       "    <tr>\n",
       "      <th>1949-12-01</th>\n",
       "      <td>118</td>\n",
       "    </tr>\n",
       "    <tr>\n",
       "      <th>1950-01-01</th>\n",
       "      <td>115</td>\n",
       "    </tr>\n",
       "    <tr>\n",
       "      <th>1950-02-01</th>\n",
       "      <td>126</td>\n",
       "    </tr>\n",
       "    <tr>\n",
       "      <th>1950-03-01</th>\n",
       "      <td>141</td>\n",
       "    </tr>\n",
       "    <tr>\n",
       "      <th>1950-04-01</th>\n",
       "      <td>135</td>\n",
       "    </tr>\n",
       "    <tr>\n",
       "      <th>1950-05-01</th>\n",
       "      <td>125</td>\n",
       "    </tr>\n",
       "    <tr>\n",
       "      <th>1950-06-01</th>\n",
       "      <td>149</td>\n",
       "    </tr>\n",
       "    <tr>\n",
       "      <th>1950-07-01</th>\n",
       "      <td>170</td>\n",
       "    </tr>\n",
       "    <tr>\n",
       "      <th>1950-08-01</th>\n",
       "      <td>170</td>\n",
       "    </tr>\n",
       "    <tr>\n",
       "      <th>1950-09-01</th>\n",
       "      <td>158</td>\n",
       "    </tr>\n",
       "    <tr>\n",
       "      <th>1950-10-01</th>\n",
       "      <td>133</td>\n",
       "    </tr>\n",
       "    <tr>\n",
       "      <th>1950-11-01</th>\n",
       "      <td>114</td>\n",
       "    </tr>\n",
       "    <tr>\n",
       "      <th>1950-12-01</th>\n",
       "      <td>140</td>\n",
       "    </tr>\n",
       "    <tr>\n",
       "      <th>1951-01-01</th>\n",
       "      <td>145</td>\n",
       "    </tr>\n",
       "    <tr>\n",
       "      <th>1951-02-01</th>\n",
       "      <td>150</td>\n",
       "    </tr>\n",
       "    <tr>\n",
       "      <th>1951-03-01</th>\n",
       "      <td>178</td>\n",
       "    </tr>\n",
       "    <tr>\n",
       "      <th>1951-04-01</th>\n",
       "      <td>163</td>\n",
       "    </tr>\n",
       "    <tr>\n",
       "      <th>1951-05-01</th>\n",
       "      <td>172</td>\n",
       "    </tr>\n",
       "    <tr>\n",
       "      <th>1951-06-01</th>\n",
       "      <td>178</td>\n",
       "    </tr>\n",
       "    <tr>\n",
       "      <th>1951-07-01</th>\n",
       "      <td>199</td>\n",
       "    </tr>\n",
       "    <tr>\n",
       "      <th>1951-08-01</th>\n",
       "      <td>199</td>\n",
       "    </tr>\n",
       "    <tr>\n",
       "      <th>1951-09-01</th>\n",
       "      <td>184</td>\n",
       "    </tr>\n",
       "    <tr>\n",
       "      <th>1951-10-01</th>\n",
       "      <td>162</td>\n",
       "    </tr>\n",
       "    <tr>\n",
       "      <th>1951-11-01</th>\n",
       "      <td>146</td>\n",
       "    </tr>\n",
       "    <tr>\n",
       "      <th>1951-12-01</th>\n",
       "      <td>166</td>\n",
       "    </tr>\n",
       "    <tr>\n",
       "      <th>1952-01-01</th>\n",
       "      <td>171</td>\n",
       "    </tr>\n",
       "    <tr>\n",
       "      <th>1952-02-01</th>\n",
       "      <td>180</td>\n",
       "    </tr>\n",
       "    <tr>\n",
       "      <th>1952-03-01</th>\n",
       "      <td>193</td>\n",
       "    </tr>\n",
       "    <tr>\n",
       "      <th>1952-04-01</th>\n",
       "      <td>181</td>\n",
       "    </tr>\n",
       "    <tr>\n",
       "      <th>1952-05-01</th>\n",
       "      <td>183</td>\n",
       "    </tr>\n",
       "    <tr>\n",
       "      <th>1952-06-01</th>\n",
       "      <td>218</td>\n",
       "    </tr>\n",
       "    <tr>\n",
       "      <th>1952-07-01</th>\n",
       "      <td>230</td>\n",
       "    </tr>\n",
       "    <tr>\n",
       "      <th>1952-08-01</th>\n",
       "      <td>242</td>\n",
       "    </tr>\n",
       "    <tr>\n",
       "      <th>1952-09-01</th>\n",
       "      <td>209</td>\n",
       "    </tr>\n",
       "    <tr>\n",
       "      <th>1952-10-01</th>\n",
       "      <td>191</td>\n",
       "    </tr>\n",
       "    <tr>\n",
       "      <th>1952-11-01</th>\n",
       "      <td>172</td>\n",
       "    </tr>\n",
       "    <tr>\n",
       "      <th>1952-12-01</th>\n",
       "      <td>194</td>\n",
       "    </tr>\n",
       "    <tr>\n",
       "      <th>1953-01-01</th>\n",
       "      <td>196</td>\n",
       "    </tr>\n",
       "    <tr>\n",
       "      <th>1953-02-01</th>\n",
       "      <td>196</td>\n",
       "    </tr>\n",
       "  </tbody>\n",
       "</table>\n",
       "</div>"
      ],
      "text/plain": [
       "            #Passengers\n",
       "Month                  \n",
       "1949-01-01          112\n",
       "1949-02-01          118\n",
       "1949-03-01          132\n",
       "1949-04-01          129\n",
       "1949-05-01          121\n",
       "1949-06-01          135\n",
       "1949-07-01          148\n",
       "1949-08-01          148\n",
       "1949-09-01          136\n",
       "1949-10-01          119\n",
       "1949-11-01          104\n",
       "1949-12-01          118\n",
       "1950-01-01          115\n",
       "1950-02-01          126\n",
       "1950-03-01          141\n",
       "1950-04-01          135\n",
       "1950-05-01          125\n",
       "1950-06-01          149\n",
       "1950-07-01          170\n",
       "1950-08-01          170\n",
       "1950-09-01          158\n",
       "1950-10-01          133\n",
       "1950-11-01          114\n",
       "1950-12-01          140\n",
       "1951-01-01          145\n",
       "1951-02-01          150\n",
       "1951-03-01          178\n",
       "1951-04-01          163\n",
       "1951-05-01          172\n",
       "1951-06-01          178\n",
       "1951-07-01          199\n",
       "1951-08-01          199\n",
       "1951-09-01          184\n",
       "1951-10-01          162\n",
       "1951-11-01          146\n",
       "1951-12-01          166\n",
       "1952-01-01          171\n",
       "1952-02-01          180\n",
       "1952-03-01          193\n",
       "1952-04-01          181\n",
       "1952-05-01          183\n",
       "1952-06-01          218\n",
       "1952-07-01          230\n",
       "1952-08-01          242\n",
       "1952-09-01          209\n",
       "1952-10-01          191\n",
       "1952-11-01          172\n",
       "1952-12-01          194\n",
       "1953-01-01          196\n",
       "1953-02-01          196"
      ]
     },
     "execution_count": 13,
     "metadata": {},
     "output_type": "execute_result"
    }
   ],
   "source": [
    "data.head(50)"
   ]
  },
  {
   "cell_type": "code",
   "execution_count": null,
   "id": "cc485639",
   "metadata": {
    "execution": {
     "iopub.execute_input": "2024-05-03T11:35:07.554989Z",
     "iopub.status.busy": "2024-05-03T11:35:07.554364Z",
     "iopub.status.idle": "2024-05-03T11:35:07.561506Z",
     "shell.execute_reply": "2024-05-03T11:35:07.560811Z"
    },
    "papermill": {
     "duration": 0.022146,
     "end_time": "2024-05-03T11:35:07.563395",
     "exception": false,
     "start_time": "2024-05-03T11:35:07.541249",
     "status": "completed"
    },
    "tags": []
   },
   "outputs": [],
   "source": [
    "data[\"1 Month before\"] = data[\"#Passengers\"].shift(+1)\n",
    "data[\"2 Month before\"] = data[\"#Passengers\"].shift(+2)\n",
    "data[\"3 Month before\"] = data[\"#Passengers\"].shift(+3)\n",
    "data[\"4 Month before\"] = data[\"#Passengers\"].shift(+4)"
   ]
  },
  {
   "cell_type": "code",
   "execution_count": null,
   "id": "f2625a7d",
   "metadata": {
    "execution": {
     "iopub.execute_input": "2024-05-03T11:35:07.590470Z",
     "iopub.status.busy": "2024-05-03T11:35:07.589777Z",
     "iopub.status.idle": "2024-05-03T11:35:07.607216Z",
     "shell.execute_reply": "2024-05-03T11:35:07.606342Z"
    },
    "papermill": {
     "duration": 0.033228,
     "end_time": "2024-05-03T11:35:07.609736",
     "exception": false,
     "start_time": "2024-05-03T11:35:07.576508",
     "status": "completed"
    },
    "tags": []
   },
   "outputs": [
    {
     "data": {
      "text/html": [
       "<div>\n",
       "<style scoped>\n",
       "    .dataframe tbody tr th:only-of-type {\n",
       "        vertical-align: middle;\n",
       "    }\n",
       "\n",
       "    .dataframe tbody tr th {\n",
       "        vertical-align: top;\n",
       "    }\n",
       "\n",
       "    .dataframe thead th {\n",
       "        text-align: right;\n",
       "    }\n",
       "</style>\n",
       "<table border=\"1\" class=\"dataframe\">\n",
       "  <thead>\n",
       "    <tr style=\"text-align: right;\">\n",
       "      <th></th>\n",
       "      <th>#Passengers</th>\n",
       "      <th>1 Month before</th>\n",
       "      <th>2 Month before</th>\n",
       "      <th>3 Month before</th>\n",
       "      <th>4 Month before</th>\n",
       "    </tr>\n",
       "    <tr>\n",
       "      <th>Month</th>\n",
       "      <th></th>\n",
       "      <th></th>\n",
       "      <th></th>\n",
       "      <th></th>\n",
       "      <th></th>\n",
       "    </tr>\n",
       "  </thead>\n",
       "  <tbody>\n",
       "    <tr>\n",
       "      <th>1949-01-01</th>\n",
       "      <td>112</td>\n",
       "      <td>NaN</td>\n",
       "      <td>NaN</td>\n",
       "      <td>NaN</td>\n",
       "      <td>NaN</td>\n",
       "    </tr>\n",
       "    <tr>\n",
       "      <th>1949-02-01</th>\n",
       "      <td>118</td>\n",
       "      <td>112.0</td>\n",
       "      <td>NaN</td>\n",
       "      <td>NaN</td>\n",
       "      <td>NaN</td>\n",
       "    </tr>\n",
       "    <tr>\n",
       "      <th>1949-03-01</th>\n",
       "      <td>132</td>\n",
       "      <td>118.0</td>\n",
       "      <td>112.0</td>\n",
       "      <td>NaN</td>\n",
       "      <td>NaN</td>\n",
       "    </tr>\n",
       "    <tr>\n",
       "      <th>1949-04-01</th>\n",
       "      <td>129</td>\n",
       "      <td>132.0</td>\n",
       "      <td>118.0</td>\n",
       "      <td>112.0</td>\n",
       "      <td>NaN</td>\n",
       "    </tr>\n",
       "    <tr>\n",
       "      <th>1949-05-01</th>\n",
       "      <td>121</td>\n",
       "      <td>129.0</td>\n",
       "      <td>132.0</td>\n",
       "      <td>118.0</td>\n",
       "      <td>112.0</td>\n",
       "    </tr>\n",
       "    <tr>\n",
       "      <th>1949-06-01</th>\n",
       "      <td>135</td>\n",
       "      <td>121.0</td>\n",
       "      <td>129.0</td>\n",
       "      <td>132.0</td>\n",
       "      <td>118.0</td>\n",
       "    </tr>\n",
       "    <tr>\n",
       "      <th>1949-07-01</th>\n",
       "      <td>148</td>\n",
       "      <td>135.0</td>\n",
       "      <td>121.0</td>\n",
       "      <td>129.0</td>\n",
       "      <td>132.0</td>\n",
       "    </tr>\n",
       "    <tr>\n",
       "      <th>1949-08-01</th>\n",
       "      <td>148</td>\n",
       "      <td>148.0</td>\n",
       "      <td>135.0</td>\n",
       "      <td>121.0</td>\n",
       "      <td>129.0</td>\n",
       "    </tr>\n",
       "    <tr>\n",
       "      <th>1949-09-01</th>\n",
       "      <td>136</td>\n",
       "      <td>148.0</td>\n",
       "      <td>148.0</td>\n",
       "      <td>135.0</td>\n",
       "      <td>121.0</td>\n",
       "    </tr>\n",
       "    <tr>\n",
       "      <th>1949-10-01</th>\n",
       "      <td>119</td>\n",
       "      <td>136.0</td>\n",
       "      <td>148.0</td>\n",
       "      <td>148.0</td>\n",
       "      <td>135.0</td>\n",
       "    </tr>\n",
       "    <tr>\n",
       "      <th>1949-11-01</th>\n",
       "      <td>104</td>\n",
       "      <td>119.0</td>\n",
       "      <td>136.0</td>\n",
       "      <td>148.0</td>\n",
       "      <td>148.0</td>\n",
       "    </tr>\n",
       "    <tr>\n",
       "      <th>1949-12-01</th>\n",
       "      <td>118</td>\n",
       "      <td>104.0</td>\n",
       "      <td>119.0</td>\n",
       "      <td>136.0</td>\n",
       "      <td>148.0</td>\n",
       "    </tr>\n",
       "    <tr>\n",
       "      <th>1950-01-01</th>\n",
       "      <td>115</td>\n",
       "      <td>118.0</td>\n",
       "      <td>104.0</td>\n",
       "      <td>119.0</td>\n",
       "      <td>136.0</td>\n",
       "    </tr>\n",
       "    <tr>\n",
       "      <th>1950-02-01</th>\n",
       "      <td>126</td>\n",
       "      <td>115.0</td>\n",
       "      <td>118.0</td>\n",
       "      <td>104.0</td>\n",
       "      <td>119.0</td>\n",
       "    </tr>\n",
       "    <tr>\n",
       "      <th>1950-03-01</th>\n",
       "      <td>141</td>\n",
       "      <td>126.0</td>\n",
       "      <td>115.0</td>\n",
       "      <td>118.0</td>\n",
       "      <td>104.0</td>\n",
       "    </tr>\n",
       "  </tbody>\n",
       "</table>\n",
       "</div>"
      ],
      "text/plain": [
       "            #Passengers  1 Month before  2 Month before  3 Month before  \\\n",
       "Month                                                                     \n",
       "1949-01-01          112             NaN             NaN             NaN   \n",
       "1949-02-01          118           112.0             NaN             NaN   \n",
       "1949-03-01          132           118.0           112.0             NaN   \n",
       "1949-04-01          129           132.0           118.0           112.0   \n",
       "1949-05-01          121           129.0           132.0           118.0   \n",
       "1949-06-01          135           121.0           129.0           132.0   \n",
       "1949-07-01          148           135.0           121.0           129.0   \n",
       "1949-08-01          148           148.0           135.0           121.0   \n",
       "1949-09-01          136           148.0           148.0           135.0   \n",
       "1949-10-01          119           136.0           148.0           148.0   \n",
       "1949-11-01          104           119.0           136.0           148.0   \n",
       "1949-12-01          118           104.0           119.0           136.0   \n",
       "1950-01-01          115           118.0           104.0           119.0   \n",
       "1950-02-01          126           115.0           118.0           104.0   \n",
       "1950-03-01          141           126.0           115.0           118.0   \n",
       "\n",
       "            4 Month before  \n",
       "Month                       \n",
       "1949-01-01             NaN  \n",
       "1949-02-01             NaN  \n",
       "1949-03-01             NaN  \n",
       "1949-04-01             NaN  \n",
       "1949-05-01           112.0  \n",
       "1949-06-01           118.0  \n",
       "1949-07-01           132.0  \n",
       "1949-08-01           129.0  \n",
       "1949-09-01           121.0  \n",
       "1949-10-01           135.0  \n",
       "1949-11-01           148.0  \n",
       "1949-12-01           148.0  \n",
       "1950-01-01           136.0  \n",
       "1950-02-01           119.0  \n",
       "1950-03-01           104.0  "
      ]
     },
     "execution_count": 15,
     "metadata": {},
     "output_type": "execute_result"
    }
   ],
   "source": [
    "data.head(15)"
   ]
  },
  {
   "cell_type": "code",
   "execution_count": null,
   "id": "2181b9a5",
   "metadata": {
    "execution": {
     "iopub.execute_input": "2024-05-03T11:35:07.637227Z",
     "iopub.status.busy": "2024-05-03T11:35:07.636668Z",
     "iopub.status.idle": "2024-05-03T11:35:07.646254Z",
     "shell.execute_reply": "2024-05-03T11:35:07.645413Z"
    },
    "papermill": {
     "duration": 0.025306,
     "end_time": "2024-05-03T11:35:07.648718",
     "exception": false,
     "start_time": "2024-05-03T11:35:07.623412",
     "status": "completed"
    },
    "tags": []
   },
   "outputs": [
    {
     "name": "stdout",
     "output_type": "stream",
     "text": [
      "<class 'pandas.core.frame.DataFrame'>\n",
      "DatetimeIndex: 140 entries, 1949-05-01 to 1960-12-01\n",
      "Data columns (total 5 columns):\n",
      " #   Column          Non-Null Count  Dtype  \n",
      "---  ------          --------------  -----  \n",
      " 0   #Passengers     140 non-null    int64  \n",
      " 1   1 Month before  140 non-null    float64\n",
      " 2   2 Month before  140 non-null    float64\n",
      " 3   3 Month before  140 non-null    float64\n",
      " 4   4 Month before  140 non-null    float64\n",
      "dtypes: float64(4), int64(1)\n",
      "memory usage: 6.6 KB\n"
     ]
    }
   ],
   "source": [
    "data = data.iloc[4:]\n",
    "# data.head(10)\n",
    "data.info()"
   ]
  },
  {
   "cell_type": "code",
   "execution_count": null,
   "id": "003c34b1",
   "metadata": {
    "execution": {
     "iopub.execute_input": "2024-05-03T11:35:07.676539Z",
     "iopub.status.busy": "2024-05-03T11:35:07.676283Z",
     "iopub.status.idle": "2024-05-03T11:35:07.680950Z",
     "shell.execute_reply": "2024-05-03T11:35:07.680050Z"
    },
    "papermill": {
     "duration": 0.020117,
     "end_time": "2024-05-03T11:35:07.682985",
     "exception": false,
     "start_time": "2024-05-03T11:35:07.662868",
     "status": "completed"
    },
    "tags": []
   },
   "outputs": [
    {
     "name": "stderr",
     "output_type": "stream",
     "text": [
      "/tmp/ipykernel_24/1008179382.py:1: SettingWithCopyWarning: \n",
      "A value is trying to be set on a copy of a slice from a DataFrame.\n",
      "Try using .loc[row_indexer,col_indexer] = value instead\n",
      "\n",
      "See the caveats in the documentation: https://pandas.pydata.org/pandas-docs/stable/user_guide/indexing.html#returning-a-view-versus-a-copy\n",
      "  data[\"#Passengers\"] = data[\"#Passengers\"].astype(\"float64\")\n"
     ]
    }
   ],
   "source": [
    "data[\"#Passengers\"] = data[\"#Passengers\"].astype(\"float64\")"
   ]
  },
  {
   "cell_type": "code",
   "execution_count": null,
   "id": "afde953e",
   "metadata": {
    "execution": {
     "iopub.execute_input": "2024-05-03T11:35:07.709644Z",
     "iopub.status.busy": "2024-05-03T11:35:07.709373Z",
     "iopub.status.idle": "2024-05-03T11:35:07.748873Z",
     "shell.execute_reply": "2024-05-03T11:35:07.748015Z"
    },
    "papermill": {
     "duration": 0.055428,
     "end_time": "2024-05-03T11:35:07.751124",
     "exception": false,
     "start_time": "2024-05-03T11:35:07.695696",
     "status": "completed"
    },
    "tags": []
   },
   "outputs": [
    {
     "data": {
      "text/html": [
       "<div>\n",
       "<style scoped>\n",
       "    .dataframe tbody tr th:only-of-type {\n",
       "        vertical-align: middle;\n",
       "    }\n",
       "\n",
       "    .dataframe tbody tr th {\n",
       "        vertical-align: top;\n",
       "    }\n",
       "\n",
       "    .dataframe thead th {\n",
       "        text-align: right;\n",
       "    }\n",
       "</style>\n",
       "<table border=\"1\" class=\"dataframe\">\n",
       "  <thead>\n",
       "    <tr style=\"text-align: right;\">\n",
       "      <th></th>\n",
       "      <th>#Passengers</th>\n",
       "      <th>1 Month before</th>\n",
       "      <th>2 Month before</th>\n",
       "      <th>3 Month before</th>\n",
       "      <th>4 Month before</th>\n",
       "    </tr>\n",
       "    <tr>\n",
       "      <th>Month</th>\n",
       "      <th></th>\n",
       "      <th></th>\n",
       "      <th></th>\n",
       "      <th></th>\n",
       "      <th></th>\n",
       "    </tr>\n",
       "  </thead>\n",
       "  <tbody>\n",
       "    <tr>\n",
       "      <th>1949-05-01</th>\n",
       "      <td>121.0</td>\n",
       "      <td>129.0</td>\n",
       "      <td>132.0</td>\n",
       "      <td>118.0</td>\n",
       "      <td>112.0</td>\n",
       "    </tr>\n",
       "    <tr>\n",
       "      <th>1949-06-01</th>\n",
       "      <td>135.0</td>\n",
       "      <td>121.0</td>\n",
       "      <td>129.0</td>\n",
       "      <td>132.0</td>\n",
       "      <td>118.0</td>\n",
       "    </tr>\n",
       "    <tr>\n",
       "      <th>1949-07-01</th>\n",
       "      <td>148.0</td>\n",
       "      <td>135.0</td>\n",
       "      <td>121.0</td>\n",
       "      <td>129.0</td>\n",
       "      <td>132.0</td>\n",
       "    </tr>\n",
       "    <tr>\n",
       "      <th>1949-08-01</th>\n",
       "      <td>148.0</td>\n",
       "      <td>148.0</td>\n",
       "      <td>135.0</td>\n",
       "      <td>121.0</td>\n",
       "      <td>129.0</td>\n",
       "    </tr>\n",
       "    <tr>\n",
       "      <th>1949-09-01</th>\n",
       "      <td>136.0</td>\n",
       "      <td>148.0</td>\n",
       "      <td>148.0</td>\n",
       "      <td>135.0</td>\n",
       "      <td>121.0</td>\n",
       "    </tr>\n",
       "    <tr>\n",
       "      <th>1949-10-01</th>\n",
       "      <td>119.0</td>\n",
       "      <td>136.0</td>\n",
       "      <td>148.0</td>\n",
       "      <td>148.0</td>\n",
       "      <td>135.0</td>\n",
       "    </tr>\n",
       "    <tr>\n",
       "      <th>1949-11-01</th>\n",
       "      <td>104.0</td>\n",
       "      <td>119.0</td>\n",
       "      <td>136.0</td>\n",
       "      <td>148.0</td>\n",
       "      <td>148.0</td>\n",
       "    </tr>\n",
       "    <tr>\n",
       "      <th>1949-12-01</th>\n",
       "      <td>118.0</td>\n",
       "      <td>104.0</td>\n",
       "      <td>119.0</td>\n",
       "      <td>136.0</td>\n",
       "      <td>148.0</td>\n",
       "    </tr>\n",
       "    <tr>\n",
       "      <th>1950-01-01</th>\n",
       "      <td>115.0</td>\n",
       "      <td>118.0</td>\n",
       "      <td>104.0</td>\n",
       "      <td>119.0</td>\n",
       "      <td>136.0</td>\n",
       "    </tr>\n",
       "    <tr>\n",
       "      <th>1950-02-01</th>\n",
       "      <td>126.0</td>\n",
       "      <td>115.0</td>\n",
       "      <td>118.0</td>\n",
       "      <td>104.0</td>\n",
       "      <td>119.0</td>\n",
       "    </tr>\n",
       "    <tr>\n",
       "      <th>1950-03-01</th>\n",
       "      <td>141.0</td>\n",
       "      <td>126.0</td>\n",
       "      <td>115.0</td>\n",
       "      <td>118.0</td>\n",
       "      <td>104.0</td>\n",
       "    </tr>\n",
       "    <tr>\n",
       "      <th>1950-04-01</th>\n",
       "      <td>135.0</td>\n",
       "      <td>141.0</td>\n",
       "      <td>126.0</td>\n",
       "      <td>115.0</td>\n",
       "      <td>118.0</td>\n",
       "    </tr>\n",
       "    <tr>\n",
       "      <th>1950-05-01</th>\n",
       "      <td>125.0</td>\n",
       "      <td>135.0</td>\n",
       "      <td>141.0</td>\n",
       "      <td>126.0</td>\n",
       "      <td>115.0</td>\n",
       "    </tr>\n",
       "    <tr>\n",
       "      <th>1950-06-01</th>\n",
       "      <td>149.0</td>\n",
       "      <td>125.0</td>\n",
       "      <td>135.0</td>\n",
       "      <td>141.0</td>\n",
       "      <td>126.0</td>\n",
       "    </tr>\n",
       "    <tr>\n",
       "      <th>1950-07-01</th>\n",
       "      <td>170.0</td>\n",
       "      <td>149.0</td>\n",
       "      <td>125.0</td>\n",
       "      <td>135.0</td>\n",
       "      <td>141.0</td>\n",
       "    </tr>\n",
       "    <tr>\n",
       "      <th>1950-08-01</th>\n",
       "      <td>170.0</td>\n",
       "      <td>170.0</td>\n",
       "      <td>149.0</td>\n",
       "      <td>125.0</td>\n",
       "      <td>135.0</td>\n",
       "    </tr>\n",
       "    <tr>\n",
       "      <th>1950-09-01</th>\n",
       "      <td>158.0</td>\n",
       "      <td>170.0</td>\n",
       "      <td>170.0</td>\n",
       "      <td>149.0</td>\n",
       "      <td>125.0</td>\n",
       "    </tr>\n",
       "    <tr>\n",
       "      <th>1950-10-01</th>\n",
       "      <td>133.0</td>\n",
       "      <td>158.0</td>\n",
       "      <td>170.0</td>\n",
       "      <td>170.0</td>\n",
       "      <td>149.0</td>\n",
       "    </tr>\n",
       "    <tr>\n",
       "      <th>1950-11-01</th>\n",
       "      <td>114.0</td>\n",
       "      <td>133.0</td>\n",
       "      <td>158.0</td>\n",
       "      <td>170.0</td>\n",
       "      <td>170.0</td>\n",
       "    </tr>\n",
       "    <tr>\n",
       "      <th>1950-12-01</th>\n",
       "      <td>140.0</td>\n",
       "      <td>114.0</td>\n",
       "      <td>133.0</td>\n",
       "      <td>158.0</td>\n",
       "      <td>170.0</td>\n",
       "    </tr>\n",
       "    <tr>\n",
       "      <th>1951-01-01</th>\n",
       "      <td>145.0</td>\n",
       "      <td>140.0</td>\n",
       "      <td>114.0</td>\n",
       "      <td>133.0</td>\n",
       "      <td>158.0</td>\n",
       "    </tr>\n",
       "    <tr>\n",
       "      <th>1951-02-01</th>\n",
       "      <td>150.0</td>\n",
       "      <td>145.0</td>\n",
       "      <td>140.0</td>\n",
       "      <td>114.0</td>\n",
       "      <td>133.0</td>\n",
       "    </tr>\n",
       "    <tr>\n",
       "      <th>1951-03-01</th>\n",
       "      <td>178.0</td>\n",
       "      <td>150.0</td>\n",
       "      <td>145.0</td>\n",
       "      <td>140.0</td>\n",
       "      <td>114.0</td>\n",
       "    </tr>\n",
       "    <tr>\n",
       "      <th>1951-04-01</th>\n",
       "      <td>163.0</td>\n",
       "      <td>178.0</td>\n",
       "      <td>150.0</td>\n",
       "      <td>145.0</td>\n",
       "      <td>140.0</td>\n",
       "    </tr>\n",
       "    <tr>\n",
       "      <th>1951-05-01</th>\n",
       "      <td>172.0</td>\n",
       "      <td>163.0</td>\n",
       "      <td>178.0</td>\n",
       "      <td>150.0</td>\n",
       "      <td>145.0</td>\n",
       "    </tr>\n",
       "    <tr>\n",
       "      <th>1951-06-01</th>\n",
       "      <td>178.0</td>\n",
       "      <td>172.0</td>\n",
       "      <td>163.0</td>\n",
       "      <td>178.0</td>\n",
       "      <td>150.0</td>\n",
       "    </tr>\n",
       "    <tr>\n",
       "      <th>1951-07-01</th>\n",
       "      <td>199.0</td>\n",
       "      <td>178.0</td>\n",
       "      <td>172.0</td>\n",
       "      <td>163.0</td>\n",
       "      <td>178.0</td>\n",
       "    </tr>\n",
       "    <tr>\n",
       "      <th>1951-08-01</th>\n",
       "      <td>199.0</td>\n",
       "      <td>199.0</td>\n",
       "      <td>178.0</td>\n",
       "      <td>172.0</td>\n",
       "      <td>163.0</td>\n",
       "    </tr>\n",
       "    <tr>\n",
       "      <th>1951-09-01</th>\n",
       "      <td>184.0</td>\n",
       "      <td>199.0</td>\n",
       "      <td>199.0</td>\n",
       "      <td>178.0</td>\n",
       "      <td>172.0</td>\n",
       "    </tr>\n",
       "    <tr>\n",
       "      <th>1951-10-01</th>\n",
       "      <td>162.0</td>\n",
       "      <td>184.0</td>\n",
       "      <td>199.0</td>\n",
       "      <td>199.0</td>\n",
       "      <td>178.0</td>\n",
       "    </tr>\n",
       "    <tr>\n",
       "      <th>1951-11-01</th>\n",
       "      <td>146.0</td>\n",
       "      <td>162.0</td>\n",
       "      <td>184.0</td>\n",
       "      <td>199.0</td>\n",
       "      <td>199.0</td>\n",
       "    </tr>\n",
       "    <tr>\n",
       "      <th>1951-12-01</th>\n",
       "      <td>166.0</td>\n",
       "      <td>146.0</td>\n",
       "      <td>162.0</td>\n",
       "      <td>184.0</td>\n",
       "      <td>199.0</td>\n",
       "    </tr>\n",
       "    <tr>\n",
       "      <th>1952-01-01</th>\n",
       "      <td>171.0</td>\n",
       "      <td>166.0</td>\n",
       "      <td>146.0</td>\n",
       "      <td>162.0</td>\n",
       "      <td>184.0</td>\n",
       "    </tr>\n",
       "    <tr>\n",
       "      <th>1952-02-01</th>\n",
       "      <td>180.0</td>\n",
       "      <td>171.0</td>\n",
       "      <td>166.0</td>\n",
       "      <td>146.0</td>\n",
       "      <td>162.0</td>\n",
       "    </tr>\n",
       "    <tr>\n",
       "      <th>1952-03-01</th>\n",
       "      <td>193.0</td>\n",
       "      <td>180.0</td>\n",
       "      <td>171.0</td>\n",
       "      <td>166.0</td>\n",
       "      <td>146.0</td>\n",
       "    </tr>\n",
       "    <tr>\n",
       "      <th>1952-04-01</th>\n",
       "      <td>181.0</td>\n",
       "      <td>193.0</td>\n",
       "      <td>180.0</td>\n",
       "      <td>171.0</td>\n",
       "      <td>166.0</td>\n",
       "    </tr>\n",
       "    <tr>\n",
       "      <th>1952-05-01</th>\n",
       "      <td>183.0</td>\n",
       "      <td>181.0</td>\n",
       "      <td>193.0</td>\n",
       "      <td>180.0</td>\n",
       "      <td>171.0</td>\n",
       "    </tr>\n",
       "    <tr>\n",
       "      <th>1952-06-01</th>\n",
       "      <td>218.0</td>\n",
       "      <td>183.0</td>\n",
       "      <td>181.0</td>\n",
       "      <td>193.0</td>\n",
       "      <td>180.0</td>\n",
       "    </tr>\n",
       "    <tr>\n",
       "      <th>1952-07-01</th>\n",
       "      <td>230.0</td>\n",
       "      <td>218.0</td>\n",
       "      <td>183.0</td>\n",
       "      <td>181.0</td>\n",
       "      <td>193.0</td>\n",
       "    </tr>\n",
       "    <tr>\n",
       "      <th>1952-08-01</th>\n",
       "      <td>242.0</td>\n",
       "      <td>230.0</td>\n",
       "      <td>218.0</td>\n",
       "      <td>183.0</td>\n",
       "      <td>181.0</td>\n",
       "    </tr>\n",
       "    <tr>\n",
       "      <th>1952-09-01</th>\n",
       "      <td>209.0</td>\n",
       "      <td>242.0</td>\n",
       "      <td>230.0</td>\n",
       "      <td>218.0</td>\n",
       "      <td>183.0</td>\n",
       "    </tr>\n",
       "    <tr>\n",
       "      <th>1952-10-01</th>\n",
       "      <td>191.0</td>\n",
       "      <td>209.0</td>\n",
       "      <td>242.0</td>\n",
       "      <td>230.0</td>\n",
       "      <td>218.0</td>\n",
       "    </tr>\n",
       "    <tr>\n",
       "      <th>1952-11-01</th>\n",
       "      <td>172.0</td>\n",
       "      <td>191.0</td>\n",
       "      <td>209.0</td>\n",
       "      <td>242.0</td>\n",
       "      <td>230.0</td>\n",
       "    </tr>\n",
       "    <tr>\n",
       "      <th>1952-12-01</th>\n",
       "      <td>194.0</td>\n",
       "      <td>172.0</td>\n",
       "      <td>191.0</td>\n",
       "      <td>209.0</td>\n",
       "      <td>242.0</td>\n",
       "    </tr>\n",
       "    <tr>\n",
       "      <th>1953-01-01</th>\n",
       "      <td>196.0</td>\n",
       "      <td>194.0</td>\n",
       "      <td>172.0</td>\n",
       "      <td>191.0</td>\n",
       "      <td>209.0</td>\n",
       "    </tr>\n",
       "    <tr>\n",
       "      <th>1953-02-01</th>\n",
       "      <td>196.0</td>\n",
       "      <td>196.0</td>\n",
       "      <td>194.0</td>\n",
       "      <td>172.0</td>\n",
       "      <td>191.0</td>\n",
       "    </tr>\n",
       "    <tr>\n",
       "      <th>1953-03-01</th>\n",
       "      <td>236.0</td>\n",
       "      <td>196.0</td>\n",
       "      <td>196.0</td>\n",
       "      <td>194.0</td>\n",
       "      <td>172.0</td>\n",
       "    </tr>\n",
       "    <tr>\n",
       "      <th>1953-04-01</th>\n",
       "      <td>235.0</td>\n",
       "      <td>236.0</td>\n",
       "      <td>196.0</td>\n",
       "      <td>196.0</td>\n",
       "      <td>194.0</td>\n",
       "    </tr>\n",
       "    <tr>\n",
       "      <th>1953-05-01</th>\n",
       "      <td>229.0</td>\n",
       "      <td>235.0</td>\n",
       "      <td>236.0</td>\n",
       "      <td>196.0</td>\n",
       "      <td>196.0</td>\n",
       "    </tr>\n",
       "    <tr>\n",
       "      <th>1953-06-01</th>\n",
       "      <td>243.0</td>\n",
       "      <td>229.0</td>\n",
       "      <td>235.0</td>\n",
       "      <td>236.0</td>\n",
       "      <td>196.0</td>\n",
       "    </tr>\n",
       "  </tbody>\n",
       "</table>\n",
       "</div>"
      ],
      "text/plain": [
       "            #Passengers  1 Month before  2 Month before  3 Month before  \\\n",
       "Month                                                                     \n",
       "1949-05-01        121.0           129.0           132.0           118.0   \n",
       "1949-06-01        135.0           121.0           129.0           132.0   \n",
       "1949-07-01        148.0           135.0           121.0           129.0   \n",
       "1949-08-01        148.0           148.0           135.0           121.0   \n",
       "1949-09-01        136.0           148.0           148.0           135.0   \n",
       "1949-10-01        119.0           136.0           148.0           148.0   \n",
       "1949-11-01        104.0           119.0           136.0           148.0   \n",
       "1949-12-01        118.0           104.0           119.0           136.0   \n",
       "1950-01-01        115.0           118.0           104.0           119.0   \n",
       "1950-02-01        126.0           115.0           118.0           104.0   \n",
       "1950-03-01        141.0           126.0           115.0           118.0   \n",
       "1950-04-01        135.0           141.0           126.0           115.0   \n",
       "1950-05-01        125.0           135.0           141.0           126.0   \n",
       "1950-06-01        149.0           125.0           135.0           141.0   \n",
       "1950-07-01        170.0           149.0           125.0           135.0   \n",
       "1950-08-01        170.0           170.0           149.0           125.0   \n",
       "1950-09-01        158.0           170.0           170.0           149.0   \n",
       "1950-10-01        133.0           158.0           170.0           170.0   \n",
       "1950-11-01        114.0           133.0           158.0           170.0   \n",
       "1950-12-01        140.0           114.0           133.0           158.0   \n",
       "1951-01-01        145.0           140.0           114.0           133.0   \n",
       "1951-02-01        150.0           145.0           140.0           114.0   \n",
       "1951-03-01        178.0           150.0           145.0           140.0   \n",
       "1951-04-01        163.0           178.0           150.0           145.0   \n",
       "1951-05-01        172.0           163.0           178.0           150.0   \n",
       "1951-06-01        178.0           172.0           163.0           178.0   \n",
       "1951-07-01        199.0           178.0           172.0           163.0   \n",
       "1951-08-01        199.0           199.0           178.0           172.0   \n",
       "1951-09-01        184.0           199.0           199.0           178.0   \n",
       "1951-10-01        162.0           184.0           199.0           199.0   \n",
       "1951-11-01        146.0           162.0           184.0           199.0   \n",
       "1951-12-01        166.0           146.0           162.0           184.0   \n",
       "1952-01-01        171.0           166.0           146.0           162.0   \n",
       "1952-02-01        180.0           171.0           166.0           146.0   \n",
       "1952-03-01        193.0           180.0           171.0           166.0   \n",
       "1952-04-01        181.0           193.0           180.0           171.0   \n",
       "1952-05-01        183.0           181.0           193.0           180.0   \n",
       "1952-06-01        218.0           183.0           181.0           193.0   \n",
       "1952-07-01        230.0           218.0           183.0           181.0   \n",
       "1952-08-01        242.0           230.0           218.0           183.0   \n",
       "1952-09-01        209.0           242.0           230.0           218.0   \n",
       "1952-10-01        191.0           209.0           242.0           230.0   \n",
       "1952-11-01        172.0           191.0           209.0           242.0   \n",
       "1952-12-01        194.0           172.0           191.0           209.0   \n",
       "1953-01-01        196.0           194.0           172.0           191.0   \n",
       "1953-02-01        196.0           196.0           194.0           172.0   \n",
       "1953-03-01        236.0           196.0           196.0           194.0   \n",
       "1953-04-01        235.0           236.0           196.0           196.0   \n",
       "1953-05-01        229.0           235.0           236.0           196.0   \n",
       "1953-06-01        243.0           229.0           235.0           236.0   \n",
       "\n",
       "            4 Month before  \n",
       "Month                       \n",
       "1949-05-01           112.0  \n",
       "1949-06-01           118.0  \n",
       "1949-07-01           132.0  \n",
       "1949-08-01           129.0  \n",
       "1949-09-01           121.0  \n",
       "1949-10-01           135.0  \n",
       "1949-11-01           148.0  \n",
       "1949-12-01           148.0  \n",
       "1950-01-01           136.0  \n",
       "1950-02-01           119.0  \n",
       "1950-03-01           104.0  \n",
       "1950-04-01           118.0  \n",
       "1950-05-01           115.0  \n",
       "1950-06-01           126.0  \n",
       "1950-07-01           141.0  \n",
       "1950-08-01           135.0  \n",
       "1950-09-01           125.0  \n",
       "1950-10-01           149.0  \n",
       "1950-11-01           170.0  \n",
       "1950-12-01           170.0  \n",
       "1951-01-01           158.0  \n",
       "1951-02-01           133.0  \n",
       "1951-03-01           114.0  \n",
       "1951-04-01           140.0  \n",
       "1951-05-01           145.0  \n",
       "1951-06-01           150.0  \n",
       "1951-07-01           178.0  \n",
       "1951-08-01           163.0  \n",
       "1951-09-01           172.0  \n",
       "1951-10-01           178.0  \n",
       "1951-11-01           199.0  \n",
       "1951-12-01           199.0  \n",
       "1952-01-01           184.0  \n",
       "1952-02-01           162.0  \n",
       "1952-03-01           146.0  \n",
       "1952-04-01           166.0  \n",
       "1952-05-01           171.0  \n",
       "1952-06-01           180.0  \n",
       "1952-07-01           193.0  \n",
       "1952-08-01           181.0  \n",
       "1952-09-01           183.0  \n",
       "1952-10-01           218.0  \n",
       "1952-11-01           230.0  \n",
       "1952-12-01           242.0  \n",
       "1953-01-01           209.0  \n",
       "1953-02-01           191.0  \n",
       "1953-03-01           172.0  \n",
       "1953-04-01           194.0  \n",
       "1953-05-01           196.0  \n",
       "1953-06-01           196.0  "
      ]
     },
     "execution_count": 18,
     "metadata": {},
     "output_type": "execute_result"
    }
   ],
   "source": [
    "data.head(50)"
   ]
  },
  {
   "cell_type": "code",
   "execution_count": null,
   "id": "bca601b2",
   "metadata": {
    "execution": {
     "iopub.execute_input": "2024-05-03T11:35:07.781926Z",
     "iopub.status.busy": "2024-05-03T11:35:07.781656Z",
     "iopub.status.idle": "2024-05-03T11:35:07.795496Z",
     "shell.execute_reply": "2024-05-03T11:35:07.794570Z"
    },
    "papermill": {
     "duration": 0.030726,
     "end_time": "2024-05-03T11:35:07.797367",
     "exception": false,
     "start_time": "2024-05-03T11:35:07.766641",
     "status": "completed"
    },
    "tags": []
   },
   "outputs": [
    {
     "data": {
      "text/plain": [
       "array([[121., 129., 132., 118.],\n",
       "       [135., 121., 129., 132.],\n",
       "       [148., 135., 121., 129.],\n",
       "       [148., 148., 135., 121.],\n",
       "       [136., 148., 148., 135.],\n",
       "       [119., 136., 148., 148.],\n",
       "       [104., 119., 136., 148.],\n",
       "       [118., 104., 119., 136.],\n",
       "       [115., 118., 104., 119.],\n",
       "       [126., 115., 118., 104.],\n",
       "       [141., 126., 115., 118.],\n",
       "       [135., 141., 126., 115.],\n",
       "       [125., 135., 141., 126.],\n",
       "       [149., 125., 135., 141.],\n",
       "       [170., 149., 125., 135.],\n",
       "       [170., 170., 149., 125.],\n",
       "       [158., 170., 170., 149.],\n",
       "       [133., 158., 170., 170.],\n",
       "       [114., 133., 158., 170.],\n",
       "       [140., 114., 133., 158.],\n",
       "       [145., 140., 114., 133.],\n",
       "       [150., 145., 140., 114.],\n",
       "       [178., 150., 145., 140.],\n",
       "       [163., 178., 150., 145.],\n",
       "       [172., 163., 178., 150.],\n",
       "       [178., 172., 163., 178.],\n",
       "       [199., 178., 172., 163.],\n",
       "       [199., 199., 178., 172.],\n",
       "       [184., 199., 199., 178.],\n",
       "       [162., 184., 199., 199.],\n",
       "       [146., 162., 184., 199.],\n",
       "       [166., 146., 162., 184.],\n",
       "       [171., 166., 146., 162.],\n",
       "       [180., 171., 166., 146.],\n",
       "       [193., 180., 171., 166.],\n",
       "       [181., 193., 180., 171.],\n",
       "       [183., 181., 193., 180.],\n",
       "       [218., 183., 181., 193.],\n",
       "       [230., 218., 183., 181.],\n",
       "       [242., 230., 218., 183.],\n",
       "       [209., 242., 230., 218.],\n",
       "       [191., 209., 242., 230.],\n",
       "       [172., 191., 209., 242.],\n",
       "       [194., 172., 191., 209.],\n",
       "       [196., 194., 172., 191.],\n",
       "       [196., 196., 194., 172.],\n",
       "       [236., 196., 196., 194.],\n",
       "       [235., 236., 196., 196.],\n",
       "       [229., 235., 236., 196.],\n",
       "       [243., 229., 235., 236.],\n",
       "       [264., 243., 229., 235.],\n",
       "       [272., 264., 243., 229.],\n",
       "       [237., 272., 264., 243.],\n",
       "       [211., 237., 272., 264.],\n",
       "       [180., 211., 237., 272.],\n",
       "       [201., 180., 211., 237.],\n",
       "       [204., 201., 180., 211.],\n",
       "       [188., 204., 201., 180.],\n",
       "       [235., 188., 204., 201.],\n",
       "       [227., 235., 188., 204.],\n",
       "       [234., 227., 235., 188.],\n",
       "       [264., 234., 227., 235.],\n",
       "       [302., 264., 234., 227.],\n",
       "       [293., 302., 264., 234.],\n",
       "       [259., 293., 302., 264.],\n",
       "       [229., 259., 293., 302.],\n",
       "       [203., 229., 259., 293.],\n",
       "       [229., 203., 229., 259.],\n",
       "       [242., 229., 203., 229.],\n",
       "       [233., 242., 229., 203.],\n",
       "       [267., 233., 242., 229.],\n",
       "       [269., 267., 233., 242.],\n",
       "       [270., 269., 267., 233.],\n",
       "       [315., 270., 269., 267.],\n",
       "       [364., 315., 270., 269.],\n",
       "       [347., 364., 315., 270.],\n",
       "       [312., 347., 364., 315.],\n",
       "       [274., 312., 347., 364.],\n",
       "       [237., 274., 312., 347.],\n",
       "       [278., 237., 274., 312.],\n",
       "       [284., 278., 237., 274.],\n",
       "       [277., 284., 278., 237.],\n",
       "       [317., 277., 284., 278.],\n",
       "       [313., 317., 277., 284.],\n",
       "       [318., 313., 317., 277.],\n",
       "       [374., 318., 313., 317.],\n",
       "       [413., 374., 318., 313.],\n",
       "       [405., 413., 374., 318.],\n",
       "       [355., 405., 413., 374.],\n",
       "       [306., 355., 405., 413.],\n",
       "       [271., 306., 355., 405.],\n",
       "       [306., 271., 306., 355.],\n",
       "       [315., 306., 271., 306.],\n",
       "       [301., 315., 306., 271.],\n",
       "       [356., 301., 315., 306.],\n",
       "       [348., 356., 301., 315.],\n",
       "       [355., 348., 356., 301.],\n",
       "       [422., 355., 348., 356.],\n",
       "       [465., 422., 355., 348.],\n",
       "       [467., 465., 422., 355.],\n",
       "       [404., 467., 465., 422.],\n",
       "       [347., 404., 467., 465.],\n",
       "       [305., 347., 404., 467.],\n",
       "       [336., 305., 347., 404.],\n",
       "       [340., 336., 305., 347.],\n",
       "       [318., 340., 336., 305.],\n",
       "       [362., 318., 340., 336.],\n",
       "       [348., 362., 318., 340.],\n",
       "       [363., 348., 362., 318.],\n",
       "       [435., 363., 348., 362.],\n",
       "       [491., 435., 363., 348.],\n",
       "       [505., 491., 435., 363.],\n",
       "       [404., 505., 491., 435.],\n",
       "       [359., 404., 505., 491.],\n",
       "       [310., 359., 404., 505.],\n",
       "       [337., 310., 359., 404.],\n",
       "       [360., 337., 310., 359.],\n",
       "       [342., 360., 337., 310.],\n",
       "       [406., 342., 360., 337.],\n",
       "       [396., 406., 342., 360.],\n",
       "       [420., 396., 406., 342.],\n",
       "       [472., 420., 396., 406.],\n",
       "       [548., 472., 420., 396.],\n",
       "       [559., 548., 472., 420.],\n",
       "       [463., 559., 548., 472.],\n",
       "       [407., 463., 559., 548.],\n",
       "       [362., 407., 463., 559.],\n",
       "       [405., 362., 407., 463.],\n",
       "       [417., 405., 362., 407.],\n",
       "       [391., 417., 405., 362.],\n",
       "       [419., 391., 417., 405.],\n",
       "       [461., 419., 391., 417.],\n",
       "       [472., 461., 419., 391.],\n",
       "       [535., 472., 461., 419.],\n",
       "       [622., 535., 472., 461.],\n",
       "       [606., 622., 535., 472.],\n",
       "       [508., 606., 622., 535.],\n",
       "       [461., 508., 606., 622.],\n",
       "       [390., 461., 508., 606.],\n",
       "       [432., 390., 461., 508.]])"
      ]
     },
     "execution_count": 19,
     "metadata": {},
     "output_type": "execute_result"
    }
   ],
   "source": [
    "X = data[[\"#Passengers\",\"1 Month before\",\"2 Month before\",\"3 Month before\"]].values\n",
    "X"
   ]
  },
  {
   "cell_type": "code",
   "execution_count": null,
   "id": "23b89b53",
   "metadata": {
    "execution": {
     "iopub.execute_input": "2024-05-03T11:35:07.870490Z",
     "iopub.status.busy": "2024-05-03T11:35:07.870225Z",
     "iopub.status.idle": "2024-05-03T11:35:07.876622Z",
     "shell.execute_reply": "2024-05-03T11:35:07.875809Z"
    },
    "papermill": {
     "duration": 0.024042,
     "end_time": "2024-05-03T11:35:07.878787",
     "exception": false,
     "start_time": "2024-05-03T11:35:07.854745",
     "status": "completed"
    },
    "tags": []
   },
   "outputs": [],
   "source": [
    "X_train, X_test, Y_train, Y_test = train_test_split(X, Y, test_size=0.2, random_state=0)"
   ]
  },
  {
   "cell_type": "code",
   "execution_count": null,
   "id": "cbcbdcb1",
   "metadata": {
    "execution": {
     "iopub.execute_input": "2024-05-03T11:35:07.910490Z",
     "iopub.status.busy": "2024-05-03T11:35:07.910167Z",
     "iopub.status.idle": "2024-05-03T11:35:07.915557Z",
     "shell.execute_reply": "2024-05-03T11:35:07.914713Z"
    },
    "papermill": {
     "duration": 0.022938,
     "end_time": "2024-05-03T11:35:07.917536",
     "exception": false,
     "start_time": "2024-05-03T11:35:07.894598",
     "status": "completed"
    },
    "tags": []
   },
   "outputs": [
    {
     "data": {
      "text/plain": [
       "(4,)"
      ]
     },
     "execution_count": 22,
     "metadata": {},
     "output_type": "execute_result"
    }
   ],
   "source": [
    "X_train[0].shape"
   ]
  },
  {
   "cell_type": "code",
   "execution_count": null,
   "id": "aeab49e9",
   "metadata": {
    "execution": {
     "iopub.execute_input": "2024-05-03T11:35:07.949325Z",
     "iopub.status.busy": "2024-05-03T11:35:07.948780Z",
     "iopub.status.idle": "2024-05-03T11:35:08.067862Z",
     "shell.execute_reply": "2024-05-03T11:35:08.066947Z"
    },
    "papermill": {
     "duration": 0.13716,
     "end_time": "2024-05-03T11:35:08.069982",
     "exception": false,
     "start_time": "2024-05-03T11:35:07.932822",
     "status": "completed"
    },
    "tags": []
   },
   "outputs": [
    {
     "data": {
      "text/plain": [
       "0.929945869875717"
      ]
     },
     "execution_count": 23,
     "metadata": {},
     "output_type": "execute_result"
    }
   ],
   "source": [
    "from sklearn.linear_model import LinearRegression\n",
    "model = LinearRegression()\n",
    "model.fit(X_train,Y_train)\n",
    "model.score(X_train,Y_train)"
   ]
  },
  {
   "cell_type": "code",
   "execution_count": null,
   "id": "acc306c2",
   "metadata": {
    "execution": {
     "iopub.execute_input": "2024-05-03T11:35:08.102595Z",
     "iopub.status.busy": "2024-05-03T11:35:08.101970Z",
     "iopub.status.idle": "2024-05-03T11:35:22.079203Z",
     "shell.execute_reply": "2024-05-03T11:35:22.078350Z"
    },
    "papermill": {
     "duration": 13.994848,
     "end_time": "2024-05-03T11:35:22.081107",
     "exception": false,
     "start_time": "2024-05-03T11:35:08.086259",
     "status": "completed"
    },
    "tags": []
   },
   "outputs": [
    {
     "name": "stderr",
     "output_type": "stream",
     "text": [
      "2024-05-03 11:35:10.280510: E external/local_xla/xla/stream_executor/cuda/cuda_dnn.cc:9261] Unable to register cuDNN factory: Attempting to register factory for plugin cuDNN when one has already been registered\n",
      "2024-05-03 11:35:10.280607: E external/local_xla/xla/stream_executor/cuda/cuda_fft.cc:607] Unable to register cuFFT factory: Attempting to register factory for plugin cuFFT when one has already been registered\n",
      "2024-05-03 11:35:10.447121: E external/local_xla/xla/stream_executor/cuda/cuda_blas.cc:1515] Unable to register cuBLAS factory: Attempting to register factory for plugin cuBLAS when one has already been registered\n"
     ]
    },
    {
     "data": {
      "text/html": [
       "<pre style=\"white-space:pre;overflow-x:auto;line-height:normal;font-family:Menlo,'DejaVu Sans Mono',consolas,'Courier New',monospace\"><span style=\"font-weight: bold\">Model: \"sequential\"</span>\n",
       "</pre>\n"
      ],
      "text/plain": [
       "\u001b[1mModel: \"sequential\"\u001b[0m\n"
      ]
     },
     "metadata": {},
     "output_type": "display_data"
    },
    {
     "data": {
      "text/html": [
       "<pre style=\"white-space:pre;overflow-x:auto;line-height:normal;font-family:Menlo,'DejaVu Sans Mono',consolas,'Courier New',monospace\">┏━━━━━━━━━━━━━━━━━━━━━━━━━━━━━━━━━┳━━━━━━━━━━━━━━━━━━━━━━━━┳━━━━━━━━━━━━━━━┓\n",
       "┃<span style=\"font-weight: bold\"> Layer (type)                    </span>┃<span style=\"font-weight: bold\"> Output Shape           </span>┃<span style=\"font-weight: bold\">       Param # </span>┃\n",
       "┡━━━━━━━━━━━━━━━━━━━━━━━━━━━━━━━━━╇━━━━━━━━━━━━━━━━━━━━━━━━╇━━━━━━━━━━━━━━━┩\n",
       "│ dense (<span style=\"color: #0087ff; text-decoration-color: #0087ff\">Dense</span>)                   │ (<span style=\"color: #00d7ff; text-decoration-color: #00d7ff\">None</span>, <span style=\"color: #00af00; text-decoration-color: #00af00\">1</span>)              │             <span style=\"color: #00af00; text-decoration-color: #00af00\">5</span> │\n",
       "└─────────────────────────────────┴────────────────────────┴───────────────┘\n",
       "</pre>\n"
      ],
      "text/plain": [
       "┏━━━━━━━━━━━━━━━━━━━━━━━━━━━━━━━━━┳━━━━━━━━━━━━━━━━━━━━━━━━┳━━━━━━━━━━━━━━━┓\n",
       "┃\u001b[1m \u001b[0m\u001b[1mLayer (type)                   \u001b[0m\u001b[1m \u001b[0m┃\u001b[1m \u001b[0m\u001b[1mOutput Shape          \u001b[0m\u001b[1m \u001b[0m┃\u001b[1m \u001b[0m\u001b[1m      Param #\u001b[0m\u001b[1m \u001b[0m┃\n",
       "┡━━━━━━━━━━━━━━━━━━━━━━━━━━━━━━━━━╇━━━━━━━━━━━━━━━━━━━━━━━━╇━━━━━━━━━━━━━━━┩\n",
       "│ dense (\u001b[38;5;33mDense\u001b[0m)                   │ (\u001b[38;5;45mNone\u001b[0m, \u001b[38;5;34m1\u001b[0m)              │             \u001b[38;5;34m5\u001b[0m │\n",
       "└─────────────────────────────────┴────────────────────────┴───────────────┘\n"
      ]
     },
     "metadata": {},
     "output_type": "display_data"
    },
    {
     "data": {
      "text/html": [
       "<pre style=\"white-space:pre;overflow-x:auto;line-height:normal;font-family:Menlo,'DejaVu Sans Mono',consolas,'Courier New',monospace\"><span style=\"font-weight: bold\"> Total params: </span><span style=\"color: #00af00; text-decoration-color: #00af00\">5</span> (20.00 B)\n",
       "</pre>\n"
      ],
      "text/plain": [
       "\u001b[1m Total params: \u001b[0m\u001b[38;5;34m5\u001b[0m (20.00 B)\n"
      ]
     },
     "metadata": {},
     "output_type": "display_data"
    },
    {
     "data": {
      "text/html": [
       "<pre style=\"white-space:pre;overflow-x:auto;line-height:normal;font-family:Menlo,'DejaVu Sans Mono',consolas,'Courier New',monospace\"><span style=\"font-weight: bold\"> Trainable params: </span><span style=\"color: #00af00; text-decoration-color: #00af00\">5</span> (20.00 B)\n",
       "</pre>\n"
      ],
      "text/plain": [
       "\u001b[1m Trainable params: \u001b[0m\u001b[38;5;34m5\u001b[0m (20.00 B)\n"
      ]
     },
     "metadata": {},
     "output_type": "display_data"
    },
    {
     "data": {
      "text/html": [
       "<pre style=\"white-space:pre;overflow-x:auto;line-height:normal;font-family:Menlo,'DejaVu Sans Mono',consolas,'Courier New',monospace\"><span style=\"font-weight: bold\"> Non-trainable params: </span><span style=\"color: #00af00; text-decoration-color: #00af00\">0</span> (0.00 B)\n",
       "</pre>\n"
      ],
      "text/plain": [
       "\u001b[1m Non-trainable params: \u001b[0m\u001b[38;5;34m0\u001b[0m (0.00 B)\n"
      ]
     },
     "metadata": {},
     "output_type": "display_data"
    }
   ],
   "source": [
    "import tensorflow as tf\n",
    "\n",
    "model_d = tf.keras.Sequential([\n",
    "    tf.keras.layers.Input(shape=(4,),batch_size=None,),\n",
    "    tf.keras.layers.Dense(1),\n",
    "])\n",
    "model_d.compile(optimizer=\"adam\",loss=\"mse\")\n",
    "model_d.summary()"
   ]
  },
  {
   "cell_type": "code",
   "execution_count": null,
   "id": "5af3e520",
   "metadata": {
    "execution": {
     "iopub.execute_input": "2024-05-03T11:35:22.115033Z",
     "iopub.status.busy": "2024-05-03T11:35:22.114528Z",
     "iopub.status.idle": "2024-05-03T11:35:23.925728Z",
     "shell.execute_reply": "2024-05-03T11:35:23.924880Z"
    },
    "papermill": {
     "duration": 1.830054,
     "end_time": "2024-05-03T11:35:23.927660",
     "exception": false,
     "start_time": "2024-05-03T11:35:22.097606",
     "status": "completed"
    },
    "tags": []
   },
   "outputs": [
    {
     "name": "stdout",
     "output_type": "stream",
     "text": [
      "Epoch 1/10\n",
      "\u001b[1m1/4\u001b[0m \u001b[32m━━━━━\u001b[0m\u001b[37m━━━━━━━━━━━━━━━\u001b[0m \u001b[1m3s\u001b[0m 1s/step - loss: 183100.8438"
     ]
    },
    {
     "name": "stderr",
     "output_type": "stream",
     "text": [
      "WARNING: All log messages before absl::InitializeLog() is called are written to STDERR\n",
      "I0000 00:00:1714736123.430093      74 device_compiler.h:186] Compiled cluster using XLA!  This line is logged at most once for the lifetime of the process.\n"
     ]
    },
    {
     "name": "stdout",
     "output_type": "stream",
     "text": [
      "\u001b[1m4/4\u001b[0m \u001b[32m━━━━━━━━━━━━━━━━━━━━\u001b[0m\u001b[37m\u001b[0m \u001b[1m1s\u001b[0m 80ms/step - loss: 192501.1719\n",
      "Epoch 2/10\n",
      "\u001b[1m4/4\u001b[0m \u001b[32m━━━━━━━━━━━━━━━━━━━━\u001b[0m\u001b[37m\u001b[0m \u001b[1m0s\u001b[0m 2ms/step - loss: 191707.0469 \n",
      "Epoch 3/10\n",
      "\u001b[1m4/4\u001b[0m \u001b[32m━━━━━━━━━━━━━━━━━━━━\u001b[0m\u001b[37m\u001b[0m \u001b[1m0s\u001b[0m 2ms/step - loss: 187822.6719 \n",
      "Epoch 4/10\n",
      "\u001b[1m4/4\u001b[0m \u001b[32m━━━━━━━━━━━━━━━━━━━━\u001b[0m\u001b[37m\u001b[0m \u001b[1m0s\u001b[0m 2ms/step - loss: 179690.5156 \n",
      "Epoch 5/10\n",
      "\u001b[1m4/4\u001b[0m \u001b[32m━━━━━━━━━━━━━━━━━━━━\u001b[0m\u001b[37m\u001b[0m \u001b[1m0s\u001b[0m 2ms/step - loss: 177338.4531 \n",
      "Epoch 6/10\n",
      "\u001b[1m4/4\u001b[0m \u001b[32m━━━━━━━━━━━━━━━━━━━━\u001b[0m\u001b[37m\u001b[0m \u001b[1m0s\u001b[0m 2ms/step - loss: 174597.0156 \n",
      "Epoch 7/10\n",
      "\u001b[1m4/4\u001b[0m \u001b[32m━━━━━━━━━━━━━━━━━━━━\u001b[0m\u001b[37m\u001b[0m \u001b[1m0s\u001b[0m 2ms/step - loss: 174409.0781 \n",
      "Epoch 8/10\n",
      "\u001b[1m4/4\u001b[0m \u001b[32m━━━━━━━━━━━━━━━━━━━━\u001b[0m\u001b[37m\u001b[0m \u001b[1m0s\u001b[0m 2ms/step - loss: 168786.3594 \n",
      "Epoch 9/10\n",
      "\u001b[1m4/4\u001b[0m \u001b[32m━━━━━━━━━━━━━━━━━━━━\u001b[0m\u001b[37m\u001b[0m \u001b[1m0s\u001b[0m 2ms/step - loss: 172983.0781 \n",
      "Epoch 10/10\n",
      "\u001b[1m4/4\u001b[0m \u001b[32m━━━━━━━━━━━━━━━━━━━━\u001b[0m\u001b[37m\u001b[0m \u001b[1m0s\u001b[0m 2ms/step - loss: 156559.6719 \n"
     ]
    },
    {
     "data": {
      "text/plain": [
       "<keras.src.callbacks.history.History at 0x78cba9a165c0>"
      ]
     },
     "execution_count": 25,
     "metadata": {},
     "output_type": "execute_result"
    }
   ],
   "source": [
    "model_d.fit(X_train,Y_train,epochs=10)\n"
   ]
  },
  {
   "cell_type": "code",
   "execution_count": null,
   "id": "9af0f76e",
   "metadata": {
    "execution": {
     "iopub.execute_input": "2024-05-03T11:35:23.965741Z",
     "iopub.status.busy": "2024-05-03T11:35:23.965432Z",
     "iopub.status.idle": "2024-05-03T11:35:24.131764Z",
     "shell.execute_reply": "2024-05-03T11:35:24.130968Z"
    },
    "papermill": {
     "duration": 0.187423,
     "end_time": "2024-05-03T11:35:24.133787",
     "exception": false,
     "start_time": "2024-05-03T11:35:23.946364",
     "status": "completed"
    },
    "tags": []
   },
   "outputs": [
    {
     "name": "stdout",
     "output_type": "stream",
     "text": [
      "\u001b[1m1/1\u001b[0m \u001b[32m━━━━━━━━━━━━━━━━━━━━\u001b[0m\u001b[37m\u001b[0m \u001b[1m0s\u001b[0m 120ms/step\n"
     ]
    }
   ],
   "source": [
    "pre_d = model_d.predict(X_test)"
   ]
  },
  {
   "cell_type": "code",
   "execution_count": null,
   "id": "336ad3e2",
   "metadata": {
    "execution": {
     "iopub.execute_input": "2024-05-03T11:35:24.172681Z",
     "iopub.status.busy": "2024-05-03T11:35:24.172405Z",
     "iopub.status.idle": "2024-05-03T11:35:24.340215Z",
     "shell.execute_reply": "2024-05-03T11:35:24.339254Z"
    },
    "papermill": {
     "duration": 0.189583,
     "end_time": "2024-05-03T11:35:24.342329",
     "exception": false,
     "start_time": "2024-05-03T11:35:24.152746",
     "status": "completed"
    },
    "tags": []
   },
   "outputs": [
    {
     "name": "stdout",
     "output_type": "stream",
     "text": [
      "\u001b[1m1/1\u001b[0m \u001b[32m━━━━━━━━━━━━━━━━━━━━\u001b[0m\u001b[37m\u001b[0m \u001b[1m0s\u001b[0m 120ms/step\n",
      "Predicted Number is -20\n",
      "Actual Number is 136\n"
     ]
    },
    {
     "name": "stderr",
     "output_type": "stream",
     "text": [
      "/tmp/ipykernel_24/1857069663.py:2: DeprecationWarning: Conversion of an array with ndim > 0 to a scalar is deprecated, and will error in future. Ensure you extract a single element from your array before performing this operation. (Deprecated NumPy 1.25.)\n",
      "  print(f\"Predicted Number is {int(model_d.predict(X_test[num].reshape(1,-1)))}\")\n",
      "/tmp/ipykernel_24/1857069663.py:3: DeprecationWarning: Conversion of an array with ndim > 0 to a scalar is deprecated, and will error in future. Ensure you extract a single element from your array before performing this operation. (Deprecated NumPy 1.25.)\n",
      "  print(f\"Actual Number is {int(Y_test[num])}\")\n"
     ]
    }
   ],
   "source": [
    "def testset(num):\n",
    "    print(f\"Predicted Number is {int(model_d.predict(X_test[num].reshape(1,-1)))}\")\n",
    "    print(f\"Actual Number is {int(Y_test[num])}\")\n",
    "testset(9)"
   ]
  },
  {
   "cell_type": "code",
   "execution_count": null,
   "id": "3a0f1fae",
   "metadata": {
    "execution": {
     "iopub.execute_input": "2024-05-03T11:35:24.382161Z",
     "iopub.status.busy": "2024-05-03T11:35:24.381845Z",
     "iopub.status.idle": "2024-05-03T11:35:24.552057Z",
     "shell.execute_reply": "2024-05-03T11:35:24.551125Z"
    },
    "papermill": {
     "duration": 0.192816,
     "end_time": "2024-05-03T11:35:24.554595",
     "exception": false,
     "start_time": "2024-05-03T11:35:24.361779",
     "status": "completed"
    },
    "tags": []
   },
   "outputs": [
    {
     "name": "stdout",
     "output_type": "stream",
     "text": [
      "\u001b[1m1/1\u001b[0m \u001b[32m━━━━━━━━━━━━━━━━━━━━\u001b[0m\u001b[37m\u001b[0m \u001b[1m0s\u001b[0m 121ms/step\n",
      "Next number is 5\n"
     ]
    },
    {
     "name": "stderr",
     "output_type": "stream",
     "text": [
      "/tmp/ipykernel_24/3735545600.py:4: DeprecationWarning: Conversion of an array with ndim > 0 to a scalar is deprecated, and will error in future. Ensure you extract a single element from your array before performing this operation. (Deprecated NumPy 1.25.)\n",
      "  print(f\"Next number is {round(int(prediction))}\")\n"
     ]
    }
   ],
   "source": [
    "def makepredictions(n1,n2,n3,n4):\n",
    "    predict_array = np.array([n1,n2,n3,n4]).reshape(1,-1)\n",
    "    prediction = model_d.predict(predict_array)\n",
    "    print(f\"Next number is {round(int(prediction))}\")\n",
    "makepredictions(1,1,1,10)"
   ]
  },
  {
   "cell_type": "code",
   "execution_count": null,
   "id": "829abe9f",
   "metadata": {
    "execution": {
     "iopub.execute_input": "2024-05-03T11:35:24.596509Z",
     "iopub.status.busy": "2024-05-03T11:35:24.596084Z",
     "iopub.status.idle": "2024-05-03T11:35:24.871910Z",
     "shell.execute_reply": "2024-05-03T11:35:24.870968Z"
    },
    "papermill": {
     "duration": 0.299811,
     "end_time": "2024-05-03T11:35:24.873959",
     "exception": false,
     "start_time": "2024-05-03T11:35:24.574148",
     "status": "completed"
    },
    "tags": []
   },
   "outputs": [
    {
     "data": {
      "text/plain": [
       "[<matplotlib.lines.Line2D at 0x78cb9c128700>]"
      ]
     },
     "execution_count": 29,
     "metadata": {},
     "output_type": "execute_result"
    },
    {
     "data": {
      "image/png": "[encoded data removed]",
      "text/plain": [
       "<Figure size 640x480 with 1 Axes>"
      ]
     },
     "metadata": {},
     "output_type": "display_data"
    }
   ],
   "source": [
    "plt.title(\"Deep Learning Model Results\")\n",
    "plt.plot(pre_d)\n",
    "plt.plot(Y_test)"
   ]
  },
  {
   "cell_type": "code",
   "execution_count": null,
   "id": "73093d12",
   "metadata": {
    "execution": {
     "iopub.execute_input": "2024-05-03T11:35:24.916345Z",
     "iopub.status.busy": "2024-05-03T11:35:24.916011Z",
     "iopub.status.idle": "2024-05-03T11:35:24.920383Z",
     "shell.execute_reply": "2024-05-03T11:35:24.919519Z"
    },
    "papermill": {
     "duration": 0.028056,
     "end_time": "2024-05-03T11:35:24.922333",
     "exception": false,
     "start_time": "2024-05-03T11:35:24.894277",
     "status": "completed"
    },
    "tags": []
   },
   "outputs": [],
   "source": [
    "pre = model.predict(X_test)\n"
   ]
  },
  {
   "cell_type": "code",
   "execution_count": null,
   "id": "358bae0a",
   "metadata": {
    "execution": {
     "iopub.execute_input": "2024-05-03T11:35:24.963683Z",
     "iopub.status.busy": "2024-05-03T11:35:24.963404Z",
     "iopub.status.idle": "2024-05-03T11:35:25.220431Z",
     "shell.execute_reply": "2024-05-03T11:35:25.219517Z"
    },
    "papermill": {
     "duration": 0.280103,
     "end_time": "2024-05-03T11:35:25.222357",
     "exception": false,
     "start_time": "2024-05-03T11:35:24.942254",
     "status": "completed"
    },
    "tags": []
   },
   "outputs": [
    {
     "data": {
      "text/plain": [
       "[<matplotlib.lines.Line2D at 0x78cb6059c9a0>]"
      ]
     },
     "execution_count": 31,
     "metadata": {},
     "output_type": "execute_result"
    },
    {
     "data": {
      "image/png": "[encoded data removed]",
      "text/plain": [
       "<Figure size 640x480 with 1 Axes>"
      ]
     },
     "metadata": {},
     "output_type": "display_data"
    }
   ],
   "source": [
    "# Visualizing both prediction and actual of Linear Regression\n",
    "plt.title(\"Linear Regressor Model Results\")\n",
    "plt.plot(pre)\n",
    "plt.plot(Y_test)"
   ]
  },
  {
   "cell_type": "code",
   "execution_count": null,
   "id": "e7ec3317",
   "metadata": {
    "execution": {
     "iopub.execute_input": "2024-05-03T11:35:25.264689Z",
     "iopub.status.busy": "2024-05-03T11:35:25.264397Z",
     "iopub.status.idle": "2024-05-03T11:35:25.270947Z",
     "shell.execute_reply": "2024-05-03T11:35:25.270044Z"
    },
    "papermill": {
     "duration": 0.029959,
     "end_time": "2024-05-03T11:35:25.273116",
     "exception": false,
     "start_time": "2024-05-03T11:35:25.243157",
     "status": "completed"
    },
    "tags": []
   },
   "outputs": [
    {
     "data": {
      "text/plain": [
       "612.8230172202136"
      ]
     },
     "execution_count": 32,
     "metadata": {},
     "output_type": "execute_result"
    }
   ],
   "source": [
    "from sklearn.metrics import mean_squared_error\n",
    "mean_squared_error(pre,Y_test )"
   ]
  },
  {
   "cell_type": "code",
   "execution_count": null,
   "id": "9c1a6c40",
   "metadata": {
    "execution": {
     "iopub.execute_input": "2024-05-03T11:35:25.321075Z",
     "iopub.status.busy": "2024-05-03T11:35:25.320767Z",
     "iopub.status.idle": "2024-05-03T11:35:25.327595Z",
     "shell.execute_reply": "2024-05-03T11:35:25.326615Z"
    },
    "papermill": {
     "duration": 0.031646,
     "end_time": "2024-05-03T11:35:25.329542",
     "exception": false,
     "start_time": "2024-05-03T11:35:25.297896",
     "status": "completed"
    },
    "tags": []
   },
   "outputs": [
    {
     "data": {
      "text/plain": [
       "18.048051044827957"
      ]
     },
     "execution_count": 33,
     "metadata": {},
     "output_type": "execute_result"
    }
   ],
   "source": [
    "from sklearn.metrics import mean_absolute_error\n",
    "mean_absolute_error(pre,Y_test )"
   ]
  }
 ],
 "metadata": {
  "kaggle": {
   "accelerator": "nvidiaTeslaT4",
   "dataSources": [
    {
     "datasetId": 1057,
     "sourceId": 1913,
     "sourceType": "datasetVersion"
    }
   ],
   "dockerImageVersionId": 30698,
   "isGpuEnabled": true,
   "isInternetEnabled": true,
   "language": "python",
   "sourceType": "notebook"
  },
  "kernelspec": {
   "display_name": "Python 3",
   "language": "python",
   "name": "python3"
  },
  "language_info": {
   "codemirror_mode": {
    "name": "ipython",
    "version": 3
   },
   "file_extension": ".py",
   "mimetype": "text/x-python",
   "name": "python",
   "nbconvert_exporter": "python",
   "pygments_lexer": "ipython3",
   "version": "3.12.3"
  },
  "papermill": {
   "default_parameters": {},
   "duration": 28.429398,
   "end_time": "2024-05-03T11:35:27.374534",
   "environment_variables": {},
   "exception": null,
   "input_path": "__notebook__.ipynb",
   "output_path": "__notebook__.ipynb",
   "parameters": {},
   "start_time": "2024-05-03T11:34:58.945136",
   "version": "2.5.0"
  }
 },
 "nbformat": 4,
 "nbformat_minor": 5
}
